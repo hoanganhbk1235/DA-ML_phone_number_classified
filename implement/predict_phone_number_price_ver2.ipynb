{
 "cells": [
  {
   "cell_type": "code",
   "execution_count": 1,
   "metadata": {},
   "outputs": [],
   "source": [
    "import pandas as pd\n",
    "import numpy as np\n",
    "from sklearn.feature_extraction.text import CountVectorizer\n",
    "from sklearn.model_selection import train_test_split\n",
    "from scipy import sparse\n",
    "from sklearn.metrics.pairwise import cosine_similarity\n",
    "import pickle\n",
    "import re\n",
    "from sklearn.feature_extraction.text import TfidfTransformer\n",
    "from sklearn.linear_model import Ridge\n",
    "from sklearn import linear_model\n",
    "import time\n",
    "import joblib\n",
    "\n",
    "import matplotlib.pyplot as plt"
   ]
  },
  {
   "cell_type": "markdown",
   "metadata": {},
   "source": [
    "# load data"
   ]
  },
  {
   "cell_type": "code",
   "execution_count": 3,
   "metadata": {},
   "outputs": [
    {
     "data": {
      "text/html": [
       "<div>\n",
       "<table border=\"1\" class=\"dataframe\">\n",
       "  <thead>\n",
       "    <tr style=\"text-align: right;\">\n",
       "      <th></th>\n",
       "      <th>id_train</th>\n",
       "      <th>mobile_number</th>\n",
       "      <th>target</th>\n",
       "    </tr>\n",
       "  </thead>\n",
       "  <tbody>\n",
       "    <tr>\n",
       "      <th>0</th>\n",
       "      <td>0</td>\n",
       "      <td>855666666</td>\n",
       "      <td>5</td>\n",
       "    </tr>\n",
       "    <tr>\n",
       "      <th>1</th>\n",
       "      <td>1</td>\n",
       "      <td>356000000</td>\n",
       "      <td>5</td>\n",
       "    </tr>\n",
       "  </tbody>\n",
       "</table>\n",
       "</div>"
      ],
      "text/plain": [
       "   id_train  mobile_number  target\n",
       "0         0      855666666       5\n",
       "1         1      356000000       5"
      ]
     },
     "execution_count": 3,
     "metadata": {},
     "output_type": "execute_result"
    }
   ],
   "source": [
    "df_train = pd.ExcelFile('crawl_data/train_data.xlsx', encoding= 'utf-8').parse('Sheet1')\n",
    "df_test = pd.ExcelFile('crawl_data/test_data.xlsx', encoding= 'utf-8').parse('Sheet1')\n",
    "df_train.head(2)"
   ]
  },
  {
   "cell_type": "code",
   "execution_count": 4,
   "metadata": {},
   "outputs": [
    {
     "data": {
      "text/plain": [
       "(476028, 3)"
      ]
     },
     "execution_count": 4,
     "metadata": {},
     "output_type": "execute_result"
    }
   ],
   "source": [
    "df_train.shape"
   ]
  },
  {
   "cell_type": "code",
   "execution_count": 5,
   "metadata": {
    "code_folding": [
     1
    ],
    "collapsed": true
   },
   "outputs": [],
   "source": [
    "# preprocesing data\n",
    "def check_mobile_number(mobile_number):\n",
    "    '''\n",
    "    input: (str) the mobile number\n",
    "    output: bool\n",
    "    '''\n",
    "    if (len(mobile_number) == 9):\n",
    "        # các đầu số di động của các nhà mạng ở Việt Nam \n",
    "        dau_so_di_dong = ['89', '90', '93', '70', '79', '77', '76', '78', '96', '97', '98', '86', '31', '32', \n",
    "                      '33', '34', '35', '36', '37', '38', '39', '88', '91', '94', '80', '81', '82', '83', \n",
    "                      '84', '85', '92', '56', '57', '58', '99', '19', '52', '59', '87', '95', '71', '72', \n",
    "                        '74','75']\n",
    "        if mobile_number[:2] in dau_so_di_dong:\n",
    "            return 1\n",
    "        else:\n",
    "            return 0\n",
    "    else:\n",
    "        return 0\n",
    "df_train['check'] = df_train.mobile_number.astype('str').apply(check_mobile_number)\n",
    "df_test['check'] = df_test.mobile_number.astype('str').apply(check_mobile_number)"
   ]
  },
  {
   "cell_type": "code",
   "execution_count": 6,
   "metadata": {},
   "outputs": [
    {
     "data": {
      "text/html": [
       "<div>\n",
       "<table border=\"1\" class=\"dataframe\">\n",
       "  <thead>\n",
       "    <tr style=\"text-align: right;\">\n",
       "      <th></th>\n",
       "      <th>id_train</th>\n",
       "      <th>mobile_number</th>\n",
       "      <th>target</th>\n",
       "      <th>check</th>\n",
       "    </tr>\n",
       "  </thead>\n",
       "  <tbody>\n",
       "    <tr>\n",
       "      <th>90625</th>\n",
       "      <td>90625</td>\n",
       "      <td>187078468</td>\n",
       "      <td>2</td>\n",
       "      <td>0</td>\n",
       "    </tr>\n",
       "    <tr>\n",
       "      <th>294061</th>\n",
       "      <td>294061</td>\n",
       "      <td>102117292</td>\n",
       "      <td>2</td>\n",
       "      <td>0</td>\n",
       "    </tr>\n",
       "  </tbody>\n",
       "</table>\n",
       "</div>"
      ],
      "text/plain": [
       "        id_train  mobile_number  target  check\n",
       "90625      90625      187078468       2      0\n",
       "294061    294061      102117292       2      0"
      ]
     },
     "execution_count": 6,
     "metadata": {},
     "output_type": "execute_result"
    }
   ],
   "source": [
    "df_train[df_train.check == 0]"
   ]
  },
  {
   "cell_type": "code",
   "execution_count": 7,
   "metadata": {
    "code_folding": []
   },
   "outputs": [
    {
     "data": {
      "text/plain": [
       "(476026, 3)"
      ]
     },
     "execution_count": 7,
     "metadata": {},
     "output_type": "execute_result"
    }
   ],
   "source": [
    "# clean data\n",
    "df_test = df_test[df_test.check == 1]\n",
    "df_test = df_test.reset_index()\n",
    "df_test = df_test.drop(['index', 'id_test', 'check'], axis= 1)\n",
    "df_test = df_test.reset_index()\n",
    "df_test.columns = ['id_test', 'mobile_number', 'target']\n",
    "\n",
    "df_train = df_train[df_train.check == 1]\n",
    "df_train = df_train.reset_index()\n",
    "df_train = df_train.drop(['index', 'id_train', 'check'], axis= 1)\n",
    "df_train = df_train.reset_index()\n",
    "df_train.columns = ['id_train', 'mobile_number', 'target']\n",
    "df_train.shape"
   ]
  },
  {
   "cell_type": "code",
   "execution_count": 8,
   "metadata": {
    "code_folding": [
     1,
     12
    ],
    "collapsed": true
   },
   "outputs": [],
   "source": [
    "# n-gram\n",
    "def generate_ngrams(text, n_gram= 2):\n",
    "    text = str(text)\n",
    "    token = [str(i) for i in text]\n",
    "    #print(token)\n",
    "    ngrams = zip(*[token[i:] for i in range(n_gram)])\n",
    "    #print(ngrams)\n",
    "    ngrams1 = \"|\".join([\" \".join(ngram) for ngram in ngrams])\n",
    "    ngrams1 = re.sub('\\s+', '', ngrams1)\n",
    "    return ngrams1.strip()\n",
    "\n",
    "# normalize mobile number\n",
    "def norm_mobile_number(mobile_number):\n",
    "    #  create a dictionary, convert dau so di dong\n",
    "    convert_dau_so = {'162' : '32',\n",
    "                    '163' : '33',\n",
    "                    '164' : '34',\n",
    "                    '165' : '35',\n",
    "                    '166' : '36',\n",
    "                    '167' : '37',\n",
    "                    '168' : '38',\n",
    "                    '169' : '39',\n",
    "                    '120' : '70',\n",
    "                    '121' : '79',\n",
    "                    '122' : '77',\n",
    "                    '126' : '76',\n",
    "                    '128' : '78',\n",
    "                    '123' : '83',\n",
    "                    '124' : '84',\n",
    "                    '125' : '85',\n",
    "                    '127' : '81',\n",
    "                    '129' :'82',\n",
    "                    '199' : '59'}\n",
    "    '''normalize mobile number (str)'''\n",
    "    if mobile_number[0] == '0':\n",
    "        mobile = mobile_number[1:]\n",
    "    else:\n",
    "        mobile = mobile_number\n",
    "    if mobile[:3] in convert_dau_so.keys():\n",
    "        mobile = convert_dau_so[mobile[:3]] + mobile[3:]\n",
    "    return mobile"
   ]
  },
  {
   "cell_type": "markdown",
   "metadata": {},
   "source": [
    "# create the index for the num_phrases"
   ]
  },
  {
   "cell_type": "code",
   "execution_count": null,
   "metadata": {
    "code_folding": [
     0,
     73
    ],
    "collapsed": true
   },
   "outputs": [],
   "source": [
    "# create index for the num_phrases\n",
    "# bộ 6 số \n",
    "    # bộ 6 số cuối \n",
    "    # 000000, ..., 999999\n",
    "luc = [str(i)*6 for i in range(0,10)] \n",
    "    # 012345, ..., 456789\n",
    "so_tang6 = generate_ngrams('0123456789', n_gram= 6).split('|')\n",
    "    # 987654, ..., 543210\n",
    "so_giam6 = generate_ngrams('9876543210', n_gram= 6).split('|')\n",
    "    # 141516, ...\n",
    "cum_tang6 = ['ABAB+1AB+2']\n",
    "    # 161514, ...\n",
    "cum_giam6 = ['ABAB-1AB-2']\n",
    "    # 686868, ...\n",
    "lap6 = ['ABABAB']\n",
    "    # bộ 6 số giữa. 'b' : between \n",
    "luc_b = [i+'b' for i in luc]\n",
    "so_tang6b = [i+ 'b' for i in so_tang6]\n",
    "so_giam6b = [i + 'b' for i in so_giam6]\n",
    "# cum_tang6b = ['ABAB+1AB+2b']\n",
    "# cum_giam6b = ['ABAB-1AB-2b']\n",
    "lap6b = ['ABABABb']\n",
    "\n",
    "bo_6= luc+ luc_b+ so_tang6+ so_tang6b+ so_giam6+ so_giam6b+ cum_tang6+ cum_giam6+ lap6+ lap6b\n",
    "\n",
    "# bộ 5 số\n",
    "    # bộ 5 số cuối\n",
    "ngu = [str(i)*5 for i in range(0,10)]\n",
    "so_tang5 = generate_ngrams('0123456789', n_gram= 5).split('|')\n",
    "so_giam5 = generate_ngrams('9876543210', n_gram= 5).split('|')\n",
    "ganh5 = ['ABCAB']\n",
    "    # bộ 5 số giữa. 'b' : between \n",
    "ngu_b = [i + 'b' for i in ngu]\n",
    "so_tang5b = [i + 'b' for i in so_tang5]\n",
    "so_giam5b = [i + 'b' for i in so_giam5]\n",
    "\n",
    "bo_5 = ngu + ngu_b + so_tang5 + so_tang5b + so_giam5 + so_giam5b + ganh5\n",
    "\n",
    "# bộ 4 số  \n",
    "    # bộ 4 số cuối\n",
    "tu = [str(i)*4 for i in range(0,10)]\n",
    "so_tang4 = generate_ngrams('0123456789', n_gram= 4).split('|')\n",
    "so_giam4 = generate_ngrams('9876543210', n_gram= 4).split('|')\n",
    "cum_tang4 = ['ABAB+1']\n",
    "cum_giam4 = ['ABAB-1']\n",
    "lap4 = ['ABAB']\n",
    "    # bộ 4 số giữa. 'b' : between \n",
    "tu_b = [i+'b' for i in tu]\n",
    "so_tang4b = [i+ 'b' for i in so_tang4]\n",
    "so_giam4b = [i + 'b' for i in so_giam4]\n",
    "# cum_tang4b = ['ABAB+1b']\n",
    "# cum_giam4b = ['ABAB-1b']\n",
    "lap4b = ['ABABb']\n",
    "\n",
    "bo_4 = tu+ tu_b+ so_tang4+ so_tang4b+ so_giam4 + so_giam4b+ cum_tang4 + cum_giam4 + lap4 + lap4b\n",
    "    \n",
    "# bộ 3 số\n",
    "    # bộ 3 số cuối\n",
    "tam = [str(i)*3 for i in range(0,10)]\n",
    "so_tang3 = generate_ngrams('0123456789', n_gram= 3).split('|')\n",
    "so_giam3 = generate_ngrams('9876543210', n_gram= 3).split('|')\n",
    "ganh3 = ['ABA']\n",
    "\n",
    "    # bộ 3 số giữa. 'b' : between \n",
    "tam_b = [i + 'b' for i in tam]\n",
    "so_tang3b = [i + 'b' for i in so_tang3]\n",
    "# so_giam3b = [i + 'b' for i in so_giam3]\n",
    "# ganh3b = ['ABAb']\n",
    "\n",
    "bo_3 = tam + tam_b + so_tang3 + so_tang3b + so_giam3 + ganh3 \n",
    "\n",
    "# bộ 2 số cuối đẹp \n",
    "# 'e': end\n",
    "nhi = ['06', '09', '10', '12', '16', '17', '18', '19', '26', '28', '33',\n",
    "   '36', '37', '38', '39', '40', '40', '46', '50', '52', '53', '56',\n",
    "   '57', '66', '66', '68', '77', '78', '79', '80', '80', '83', '86',\n",
    "   '86', '88', '89', '90', '92', '97']\n",
    "nhi = [i + 'e' for i in nhi]\n",
    "\n",
    "# bộ đầu số các nhà mạng\n",
    "# 's': start\n",
    "dau_so = ['89', '90', '93', '70', '79', '77', '76', '78', '96', '97', '98', '86', '31', '32', \n",
    "          '33', '34', '35', '36', '37', '38', '39', '88', '91', '94', '80', '81', '82', '83', \n",
    "          '84', '85', '92', '56', '57', '58', '99', '19', '52', '59', '87', '95', '71', '72', \n",
    "          '74', '75']\n",
    "dau_so = [i+'s' for i in dau_so]\n",
    "\n",
    "# biggram\n",
    "biggram = ['00', '01', '02', '03', '04', '05', '06', '07', '08', '09'] + [str(i) for i in list(np.arange(10,100))]\n"
   ]
  },
  {
   "cell_type": "code",
   "execution_count": null,
   "metadata": {
    "collapsed": true
   },
   "outputs": [],
   "source": [
    "num_phrases= dau_so + biggram + nhi + bo_3 + bo_4 + bo_5 + bo_6\n",
    "\n",
    "df_num = pd.DataFrame()\n",
    "df_num['num_phrases'] = num_phrases\n",
    "df_num_phrases = df_num.reset_index()\n",
    "df_num_phrases.columns = ['id', 'num_phrases']"
   ]
  },
  {
   "cell_type": "code",
   "execution_count": null,
   "metadata": {
    "collapsed": true
   },
   "outputs": [],
   "source": [
    "# writer = pd.ExcelWriter('index_num_phrases_ver2.xlsx', engine='xlsxwriter')\n",
    "# df_num_phrasewriter = pd.ExcelWriter('index_num_phrases_ver2.xlsx', engine='xlsxwriter')\n",
    "# df_num_phrases.to_excel(writer, 'Sheet1', index= False, encoding= 'utf-8')\n",
    "# writer.save()"
   ]
  },
  {
   "cell_type": "markdown",
   "metadata": {},
   "source": [
    "# extract feature "
   ]
  },
  {
   "cell_type": "code",
   "execution_count": null,
   "metadata": {
    "code_folding": [
     1,
     7,
     65,
     75,
     83,
     91,
     95,
     99,
     110,
     118,
     126,
     134,
     155,
     170,
     188,
     206,
     224,
     242,
     262,
     281,
     301,
     322,
     343
    ],
    "collapsed": true
   },
   "outputs": [],
   "source": [
    "# extract feature\n",
    "def extract_feature(idx, mobile_number):\n",
    "    '''\n",
    "    input: (str) mobile number\n",
    "    '''\n",
    "    mobile = norm_mobile_number(mobile_number)\n",
    "    # kiểm tra số điện thoại\n",
    "    if check_mobile_number(mobile)== 0:\n",
    "        return 0\n",
    "    \n",
    "     \n",
    "    # create a DataFrame, contain the each mobile number infor\n",
    "    df = pd.DataFrame()\n",
    "    # thực hiện biggram cho 7 số cuối của chuỗi số điện thoại \n",
    "    df['num_phrases'] = generate_ngrams(mobile[2:], n_gram= 2).split('|')\n",
    "    df = df.num_phrases.value_counts().to_frame()\n",
    "    df = df.reset_index()\n",
    "    df.columns = ['num_phrases', 'count']\n",
    "    \n",
    "        # xét 2 số đầu tiên của dãy số điện thoại 's': start\n",
    "    so_dau = {'num_phrases':mobile[:2]+'s', 'count': 5}\n",
    "    # -insert new row into dataframe \n",
    "    df = df.append(so_dau, ignore_index= True)\n",
    "    \n",
    "    # xét 2 số cuối của dãy số điện thoại(trường hợp riêng xét độc lập với trường hợp các bộ số đặc biệt)\n",
    "    # bộ 2 số cuối đẹp \n",
    "    hai_so_cuoi  = ['06', '09', '10', '12', '16', '17', '18', '19', '26', '28', '33',\n",
    "       '36', '37', '38', '39', '40', '40', '46', '50', '52', '53', '56',\n",
    "       '57', '66', '66', '68', '77', '78', '79', '80', '80', '83', '86',\n",
    "       '86', '88', '89', '90', '92', '97']\n",
    "    if mobile[-2:] in hai_so_cuoi:\n",
    "        # 'e': end\n",
    "        so_cuoi_2 = {'num_phrases': mobile[-2:]+'e', 'count': 3}\n",
    "        df = df.append(so_cuoi_2, ignore_index= True)\n",
    "    \n",
    "    # xét các bộ số đặc biệt trong chuỗi 7 số cuối \n",
    "    # bộ 6 số  \n",
    "        # 000000, ..., 999999\n",
    "    luc = [str(i)*6 for i in range(0,10)] \n",
    "        # 012345, ..., 456789\n",
    "    so_tang6 = generate_ngrams('0123456789', n_gram= 6).split('|')\n",
    "        # 987654, ..., 543210\n",
    "    so_giam6 = generate_ngrams('9876543210', n_gram= 6).split('|')\n",
    "\n",
    "    # bộ 5 số\n",
    "        # bộ 5 số cuối\n",
    "    ngu = [str(i)*5 for i in range(0,10)]\n",
    "    so_tang5 = generate_ngrams('0123456789', n_gram= 5).split('|')\n",
    "    so_giam5 = generate_ngrams('9876543210', n_gram= 5).split('|')\n",
    "\n",
    "    # bộ 4 số  \n",
    "        # bộ 4 số cuối\n",
    "    tu = [str(i)*4 for i in range(0,10)]\n",
    "    so_tang4 = generate_ngrams('0123456789', n_gram= 4).split('|')\n",
    "    so_giam4 = generate_ngrams('9876543210', n_gram= 4).split('|')\n",
    "\n",
    "    # bộ 3 số\n",
    "        # bộ 3 số cuối\n",
    "    tam = [str(i)*3 for i in range(0,10)]\n",
    "    so_tang3 = generate_ngrams('0123456789', n_gram= 3).split('|')\n",
    "    so_giam3 = generate_ngrams('9876543210', n_gram= 3).split('|')\n",
    "    ganh3 = ['ABA']\n",
    "\n",
    "    # bộ 6 số giữa và cuoi\n",
    "        # nếu 6 số cuối là bộ số luc: 000000, ..., 999999\n",
    "    if mobile[-6:] in luc:\n",
    "        so_cuoi = {'num_phrases': mobile[-6:], 'count': 5}\n",
    "        df = df.append(so_cuoi, ignore_index= True)\n",
    "        # nếu 6 số giữa là bộ số luc: 000000, ..., 999999\n",
    "        if mobile[2:-1] in luc:\n",
    "            # 'b': between\n",
    "            so_giua = {'num_phrases': mobile[2:-1]+ 'b', 'count': 5}\n",
    "            df = df.append(so_giua, ignore_index= True)\n",
    "        \n",
    "        # 012345, ..., 456789\n",
    "    elif mobile[-6:] in so_tang6:\n",
    "        so_cuoi = {'num_phrases': mobile[-6:], 'count': 5}\n",
    "        df = df.append(so_cuoi, ignore_index= True)\n",
    "        # 012345, ..., 456789, 'b': between\n",
    "        if mobile[2:-1] in so_tang6:\n",
    "            so_giua = {'num_phrases': mobile[2:-1] + 'b', 'count': 5}\n",
    "            df = df.append(so_giua, ignore_index= True)\n",
    "        # 987654, ..., 543210\n",
    "    elif mobile[-6:] in so_giam6:\n",
    "        so_cuoi = {'num_phrases': mobile[-6:], 'count': 5}\n",
    "        df = df.append(so_cuoi, ignore_index= True)\n",
    "         # 987654, ..., 543210, 'b': between\n",
    "        if mobile[2:-1] in so_giam6:\n",
    "            so_giua = {'num_phrases': mobile[2:-1] + 'b', 'count': 5}\n",
    "            df = df.append(so_giua, ignore_index= True)\n",
    "        # cum so tang dan: ABAB+1AB+2\n",
    "    elif(int(mobile[-6:-4]) == int(mobile[-4:-2]) - 1) and (int(mobile[-6:-4]) == int(mobile[-2:]) - 2):\n",
    "        so_cuoi = {'num_phrases': 'ABAB+1AB+2', 'count': 5}\n",
    "        df = df.append(so_cuoi, ignore_index= True)\n",
    "        # cum so giam dan: ABAB-1AB-2\n",
    "    elif(int(mobile[-6:-4]) == int(mobile[-4:-2]) + 1) and (int(mobile[-6:-4]) == int(mobile[-2:]) + 2):\n",
    "        so_cuoi = {'num_phrases': 'ABAB-1AB-2', 'count': 5}\n",
    "        df = df.append(so_cuoi, ignore_index= True)\n",
    "        # cac bo so lap 6: ABABAB\n",
    "    elif (mobile[-6:-4] == mobile[-4:-2]) and (mobile[-6:-4] == mobile[-2:]):\n",
    "        so_cuoi = {'num_phrases': 'ABABAB', 'count': 5}\n",
    "        df = df.append(so_cuoi, ignore_index= True)\n",
    "        # cac bo so lap 6: ABABAB\n",
    "        if (mobile[2:4] == mobile[4:6]) and (mobile[2:4] == mobile[6:8]):\n",
    "            so_giua = {'num_phrases': 'ABABABb', 'count': 5}\n",
    "            df = df.append(so_giua, ignore_index= True)\n",
    "        \n",
    "        \n",
    "    # bộ 5 số cuối \n",
    "        # nếu 5 số cuối là bộ số luc: 00000, ..., 99999\n",
    "    elif mobile[-5:] in ngu:\n",
    "        so_cuoi = {'num_phrases': mobile[-5:], 'count': 5}\n",
    "        df = df.append(so_cuoi, ignore_index= True)\n",
    "        # xet cum so giua\n",
    "        if mobile[2:5] in so_tang3:\n",
    "            so_giua = {'num_phrases': mobile[2:5] + 'b', 'count': 5}\n",
    "            df = df.append(so_giua, ignore_index= True)\n",
    "        # 01234, ..., 56789\n",
    "    elif mobile[-5:] in so_tang5:\n",
    "        so_cuoi = {'num_phrases': mobile[-5:], 'count': 5}\n",
    "        df = df.append(so_cuoi, ignore_index= True)\n",
    "        # xet cum so giua\n",
    "        if mobile[2:5] in tam:\n",
    "            so_giua = {'num_phrases': mobile[2:5] + 'b', 'count': 5}\n",
    "            df = df.append(so_giua, ignore_index= True)\n",
    "        # 98765, ..., 43210\n",
    "    elif mobile[-5:] in so_giam5:\n",
    "        so_cuoi = {'num_phrases': mobile[-5:], 'count': 5}\n",
    "        df = df.append(so_cuoi, ignore_index= True)\n",
    "        # xet cum so giua\n",
    "        if mobile[2:5] in tam:\n",
    "            so_giua = {'num_phrases': mobile[2:5] + 'b', 'count': 5}\n",
    "            df = df.append(so_giua, ignore_index= True)\n",
    "        # cac bo so ganh 5: ABCAB\n",
    "    elif (mobile[-5:-3] == mobile[-2:]):\n",
    "        so_cuoi = {'num_phrases': 'ABCAB', 'count': 5}\n",
    "        df = df.append(so_cuoi, ignore_index= True)\n",
    "        # xet cum giua \n",
    "        if mobile[2:6] in tu:\n",
    "            so_giua = {'num_phrases': mobile[2:6] + 'b', 'count': 5}\n",
    "            df = df.append(so_giua, ignore_index= True)\n",
    "        elif mobile[2:4] == mobile[4:6]:\n",
    "            so_giua = {'num_phrases': 'ABABb', 'count': 5}\n",
    "            df = df.append(so_giua, ignore_index= True)\n",
    "        # xe cum 4\n",
    "        else:\n",
    "            ls_num = so_tang5+ so_giam5 + tu + so_tang4 + so_giam4 + tam + so_tang3\n",
    "            for num in ls_num:\n",
    "                if num in mobile[2:6]:\n",
    "                    so_giua = {'num_phrases': num + 'b', 'count': 5}\n",
    "                    df = df.append(so_giua, ignore_index= True)\n",
    "                    break\n",
    "        \n",
    "    # bộ 4 số cuối \n",
    "         # nếu 4 số cuối là bộ số 4 chữ số: 0000, ..., 999\n",
    "    elif mobile[-4:] in tu:\n",
    "        so_cuoi = {'num_phrases': mobile[-4:], 'count': 5}\n",
    "        df = df.append(so_cuoi, ignore_index= True)\n",
    "        # xet cum giua\n",
    "        if mobile[2:4] == mobile[4:6]:\n",
    "            so_giua = {'num_phrases': 'ABABb', 'count': 5}\n",
    "            df = df.append(so_giua, ignore_index= True)\n",
    "        else:\n",
    "            ls_num =so_tang4 + so_giam4 + tam + so_tang3\n",
    "            for num in ls_num:\n",
    "                if num in mobile[2:6]:\n",
    "                    so_giua = {'num_phrases': num + 'b', 'count': 5}\n",
    "                    df = df.append(so_giua, ignore_index= True)\n",
    "                    break\n",
    "        # 01234, ..., 56789\n",
    "    elif mobile[-4:] in so_tang4:\n",
    "        so_cuoi = {'num_phrases': mobile[-4:], 'count': 5}\n",
    "        df = df.append(so_cuoi, ignore_index= True)\n",
    "        # xet cum giua\n",
    "        if mobile[2:6] in tu:\n",
    "            so_giua = {'num_phrases': mobile[2:6] + 'b', 'count': 5}\n",
    "            df = df.append(so_giua, ignore_index= True)\n",
    "        elif (mobile[2:4] == mobile[4:6]) or (mobile[4:6] == mobile[6:-1]) or (mobile[3:5] == mobile[5:7]):\n",
    "            so_giua = {'num_phrases': 'ABABb', 'count': 5}\n",
    "            df = df.append(so_giua, ignore_index= True)\n",
    "        else:\n",
    "            ls_num = so_giam4 + tam + so_tang3\n",
    "            for num in ls_num:\n",
    "                if num in mobile[2:6]:\n",
    "                    so_giua = {'num_phrases': num + 'b', 'count': 5}\n",
    "                    df = df.append(so_giua, ignore_index= True)\n",
    "                    break\n",
    "        # 01234, ..., 56789\n",
    "    elif mobile[-4:] in so_giam4:\n",
    "        so_cuoi = {'num_phrases': mobile[-4:], 'count': 5}\n",
    "        df = df.append(so_cuoi, ignore_index= True)\n",
    "        # xet cum giua\n",
    "        if mobile[2:6] in tu:\n",
    "            so_giua = {'num_phrases': mobile[2:6] + 'b', 'count': 5}\n",
    "            df = df.append(so_giua, ignore_index= True)\n",
    "        elif (mobile[2:4] == mobile[4:6]) or (mobile[4:6] == mobile[6:-1]) or (mobile[3:5] == mobile[5:7]):\n",
    "            so_giua = {'num_phrases': 'ABABb', 'count': 5}\n",
    "            df = df.append(so_giua, ignore_index= True)\n",
    "        else:\n",
    "            ls_num =  so_tang4 + tam + so_tang3\n",
    "            for num in ls_num:\n",
    "                if num in mobile[2:6]:\n",
    "                    so_giua = {'num_phrases': num + 'b', 'count': 5}\n",
    "                    df = df.append(so_giua, ignore_index= True)\n",
    "                    break\n",
    "        # cum so tang 'ABAB+1'\n",
    "    elif(int(mobile[-4:-2]) ==  int(mobile[-2:]) - 1):\n",
    "        so_cuoi = {'num_phrases': 'ABAB+1', 'count': 5}\n",
    "        df = df.append(so_cuoi, ignore_index= True)\n",
    "        # xet cum giua\n",
    "        if mobile[2:6] in tu:\n",
    "            so_giua = {'num_phrases': mobile[2:6] + 'b', 'count': 5}\n",
    "            df = df.append(so_giua, ignore_index= True)\n",
    "        elif (mobile[2:4] == mobile[4:6]) or (mobile[4:6] == mobile[6:-1]) or (mobile[3:5] == mobile[5:7]):\n",
    "            so_giua = {'num_phrases': 'ABABb', 'count': 5}\n",
    "            df = df.append(so_giua, ignore_index= True)\n",
    "        else:\n",
    "            ls_num = so_tang5 + so_giam5+ so_tang4 + so_giam4 + tam + so_tang3\n",
    "            for num in ls_num:\n",
    "                if num in mobile[2:-1]:\n",
    "                    so_giua = {'num_phrases': num + 'b', 'count': 5}\n",
    "                    df = df.append(so_giua, ignore_index= True)\n",
    "                    break\n",
    "        # cum so giam 'ABAB-1'\n",
    "    elif(int(mobile[-4:-2]) ==  int(mobile[-2:]) + 1):\n",
    "        so_cuoi = {'num_phrases': 'ABAB-1', 'count': 5}\n",
    "        df = df.append(so_cuoi, ignore_index= True)\n",
    "        # xet cum giua\n",
    "        if mobile[2:6] in tu:\n",
    "            so_giua = {'num_phrases': mobile[2:6] + 'b', 'count': 5}\n",
    "            df = df.append(so_giua, ignore_index= True)\n",
    "        elif (mobile[2:4] == mobile[4:6]) or (mobile[4:6] == mobile[6:-1]) or (mobile[3:5] == mobile[5:7]):\n",
    "            so_giua = {'num_phrases': 'ABABb', 'count': 5}\n",
    "            df = df.append(so_giua, ignore_index= True)\n",
    "        else:\n",
    "            ls_num = so_tang5 + so_giam5 + so_tang4 + so_giam4 + tam + so_tang3\n",
    "            for num in ls_num:\n",
    "                if num in mobile[2:-1]:\n",
    "                    so_giua = {'num_phrases': num + 'b', 'count': 5}\n",
    "                    df = df.append(so_giua, ignore_index= True)\n",
    "                    break\n",
    "        # cac bo so lap 4: ABAB\n",
    "    elif (mobile[-4:-2] == mobile[-2:]):\n",
    "        so_cuoi = {'num_phrases': 'ABAB', 'count': 5}\n",
    "        df = df.append(so_cuoi, ignore_index= True)\n",
    "        # xet cum giua\n",
    "        if mobile[2:6] in tu:\n",
    "            so_giua = {'num_phrases': mobile[2:6] + 'b', 'count': 5}\n",
    "            df = df.append(so_giua, ignore_index= True)\n",
    "        elif (mobile[2:4] == mobile[4:6]) or (mobile[4:6] == mobile[6:-1]) or (mobile[3:5] == mobile[5:7]):\n",
    "            so_giua = {'num_phrases': 'ABABb', 'count': 5}\n",
    "            df = df.append(so_giua, ignore_index= True)\n",
    "        else:\n",
    "            ls_num = so_tang5 + so_giam5 + so_tang4 + so_giam4 + tam + so_tang3\n",
    "            for num in ls_num:\n",
    "                if num in mobile[2:-1]:\n",
    "                    so_giua = {'num_phrases': num + 'b', 'count': 5}\n",
    "                    df = df.append(so_giua, ignore_index= True)\n",
    "                    break\n",
    "    \n",
    "    # bộ 3 số cuối \n",
    "        # nếu 3 số cuối là bộ số luc: 000, ..., 999\n",
    "    elif mobile[-3:] in tam:\n",
    "        so_cuoi = {'num_phrases': mobile[-3:], 'count': 5}\n",
    "        df = df.append(so_cuoi, ignore_index= True)\n",
    "        # xet cum giua\n",
    "        if mobile[2:6] in tu:\n",
    "            so_giua = {'num_phrases': mobile[2:6] + 'b', 'count': 5}\n",
    "            df = df.append(so_giua, ignore_index= True)\n",
    "        elif (mobile[2:4] == mobile[4:6]) or (mobile[3:5] == mobile[5:7]):\n",
    "            so_giua = {'num_phrases': 'ABABb', 'count': 5}\n",
    "            df = df.append(so_giua, ignore_index= True)\n",
    "        else:\n",
    "            ls_num = so_tang5 + so_giam5 + so_tang4 + so_giam4 + tam + so_tang3\n",
    "            for num in ls_num:\n",
    "                if num in mobile[2:7]:\n",
    "                    so_giua = {'num_phrases': num + 'b', 'count': 5}\n",
    "                    df = df.append(so_giua, ignore_index= True)\n",
    "                    break\n",
    "\n",
    "        # 012, ..., 789\n",
    "    elif mobile[-3:] in so_tang3:\n",
    "        so_cuoi = {'num_phrases': mobile[-3:], 'count': 5}\n",
    "        df = df.append(so_cuoi, ignore_index= True)\n",
    "        # xet cum giua\n",
    "        if mobile[2:7] in ngu:\n",
    "            so_giua = {'num_phrases': mobile[2:7] + 'b', 'count': 5}\n",
    "            df = df.append(so_giua, ignore_index= True)\n",
    "        elif mobile[2:6] in tu:\n",
    "            so_giua = {'num_phrases': mobile[2:6] + 'b', 'count': 5}\n",
    "            df = df.append(so_giua, ignore_index= True)\n",
    "        elif (mobile[2:4] == mobile[4:6]) or (mobile[4:6] == mobile[6:-1]) or (mobile[3:5] == mobile[5:7]):\n",
    "            so_giua = {'num_phrases': 'ABABb', 'count': 5}\n",
    "            df = df.append(so_giua, ignore_index= True)\n",
    "        else:\n",
    "            ls_num = so_tang5 + so_giam5 + so_tang4 + so_giam4 + tam + so_tang3\n",
    "            for num in ls_num:\n",
    "                if num in mobile[2:8]:\n",
    "                    so_giua = {'num_phrases': num + 'b', 'count': 5}\n",
    "                    df = df.append(so_giua, ignore_index= True)\n",
    "                    break\n",
    "    elif mobile[-3:] in so_giam3:\n",
    "        so_cuoi = {'num_phrases': mobile[-3:], 'count': 5}\n",
    "        df = df.append(so_cuoi, ignore_index= True)\n",
    "        # xet cum giua\n",
    "        if mobile[2:7] in ngu:\n",
    "            so_giua = {'num_phrases': mobile[2:7] + 'b', 'count': 5}\n",
    "            df = df.append(so_giua, ignore_index= True)\n",
    "        elif mobile[2:6] in tu:\n",
    "            so_giua = {'num_phrases': mobile[2:6] + 'b', 'count': 5}\n",
    "            df = df.append(so_giua, ignore_index= True)\n",
    "        elif (mobile[2:4] == mobile[4:6]) or (mobile[4:6] == mobile[6:-1]) or (mobile[3:5] == mobile[5:7]):\n",
    "            so_giua = {'num_phrases': 'ABABb', 'count': 5}\n",
    "            df = df.append(so_giua, ignore_index= True)\n",
    "        else:\n",
    "            ls_num = so_tang5 + so_giam5 + so_tang4 + so_giam4 + tam + so_tang3\n",
    "            for num in ls_num:\n",
    "                if num in mobile[2:8]:\n",
    "                    so_giua = {'num_phrases': num + 'b', 'count': 5}\n",
    "                    df = df.append(so_giua, ignore_index= True)\n",
    "                    break\n",
    "        # cac bo so ganh 5: ABCAB\n",
    "    elif (mobile[-3] == mobile[-1]):\n",
    "        so_cuoi = {'num_phrases': 'ABA', 'count': 5}\n",
    "        df = df.append(so_cuoi, ignore_index= True)\n",
    "        # xet cum giua\n",
    "        if mobile[2:7] in ngu:\n",
    "            so_giua = {'num_phrases': mobile[2:7] + 'b', 'count': 5}\n",
    "            df = df.append(so_giua, ignore_index= True)\n",
    "        elif mobile[2:6] in tu:\n",
    "            so_giua = {'num_phrases': mobile[2:6] + 'b', 'count': 5}\n",
    "            df = df.append(so_giua, ignore_index= True)\n",
    "        elif (mobile[2:4] == mobile[4:6]) or (mobile[4:6] == mobile[6:-1]) or (mobile[3:5] == mobile[5:7]):\n",
    "            so_giua = {'num_phrases': 'ABABb', 'count': 5}\n",
    "            df = df.append(so_giua, ignore_index= True)\n",
    "        else:\n",
    "            ls_num = so_tang5 + so_giam5 + so_tang4 + so_giam4 + tam + so_tang3\n",
    "            for num in ls_num:\n",
    "                if num in mobile[2:8]:\n",
    "                    so_giua = {'num_phrases': num + 'b', 'count': 5}\n",
    "                    df = df.append(so_giua, ignore_index= True)\n",
    "                    break\n",
    "    # xét cụm 6 số ở giữa. khi các số cuối không đặc biệt\n",
    "    else:\n",
    "        if mobile[2:8] in luc:\n",
    "            so_giua = {'num_phrases': mobile[2:8] + 'b', 'count': 5}\n",
    "            df = df.append(so_giua, ignore_index= True)\n",
    "        elif (mobile[2:7] in ngu) or (mobile[3:8] in ngu):\n",
    "            if mobile[2:7] in ngu:\n",
    "                so_giua = {'num_phrases': mobile[2:7] + 'b', 'count': 5}\n",
    "                df = df.append(so_giua, ignore_index= True)\n",
    "            elif mobile[3:8] in ngu:\n",
    "                so_giua = {'num_phrases': mobile[3:8] + 'b', 'count': 5}\n",
    "                df = df.append(so_giua, ignore_index= True)\n",
    "        elif (mobile[2:6] in tu) or (mobile[3:7] in tu) or (mobile[4:8] in tu):\n",
    "            if mobile[2:6] in tu:\n",
    "                so_giua = {'num_phrases': mobile[2:6] + 'b', 'count': 5}\n",
    "                df = df.append(so_giua, ignore_index= True)\n",
    "            elif mobile[3:7] in tu:\n",
    "                so_giua = {'num_phrases': mobile[3:7] + 'b', 'count': 5}\n",
    "                df = df.append(so_giua, ignore_index= True)\n",
    "            elif mobile[4:8] in tu:\n",
    "                so_giua = {'num_phrases': mobile[4:8] + 'b', 'count': 5}\n",
    "                df = df.append(so_giua, ignore_index= True)\n",
    "        # cac bo so lap 6: ABABAB\n",
    "        elif (mobile[2:4] == mobile[4:6]) and (mobile[2:4] == mobile[6:8]):\n",
    "            so_giua = {'num_phrases': 'ABABABb', 'count': 5}\n",
    "            df = df.append(so_giua, ignore_index= True)\n",
    "        # cac bo so lap 6: ABAB\n",
    "        elif (mobile[2:4] == mobile[4:6]) or (mobile[4:6] == mobile[6:8]) or (mobile[3:5] == mobile[5:7]):\n",
    "            so_giua = {'num_phrases': 'ABABb', 'count': 5}\n",
    "            df = df.append(so_giua, ignore_index= True)\n",
    "        else:\n",
    "            ls_num = so_tang6+ so_tang6+ so_tang5+ so_giam5+ so_tang4+ so_giam4+ tam+ so_tang3\n",
    "            for num in ls_num:\n",
    "                if num in mobile[2:8]:\n",
    "                    so_giua = {'num_phrases': num + 'b', 'count': 5}\n",
    "                    df = df.append(so_giua, ignore_index= True)\n",
    "                    break\n",
    "\n",
    "    df['id'] = idx\n",
    "    df = df[['id', 'num_phrases', 'count']]\n",
    "    return df# extract feature"
   ]
  },
  {
   "cell_type": "code",
   "execution_count": null,
   "metadata": {
    "collapsed": true
   },
   "outputs": [],
   "source": [
    "ls_data_train = []\n",
    "for i in range(df_train.shape[0]):\n",
    "    ls_data_train.append(extract_feature(int(df_train.loc[i, 'id_train']), str(df_train.loc[i, 'mobile_number'])))"
   ]
  },
  {
   "cell_type": "code",
   "execution_count": null,
   "metadata": {
    "collapsed": true
   },
   "outputs": [],
   "source": [
    "ls_data_test = []\n",
    "for i in range(df_test.shape[0]):\n",
    "    ls_data_test.append(extract_feature(int(df_test.loc[i, 'id_test']), str(df_test.loc[i, 'mobile_number'])))"
   ]
  },
  {
   "cell_type": "code",
   "execution_count": null,
   "metadata": {
    "collapsed": true
   },
   "outputs": [],
   "source": [
    "df_feature_train = pd.concat(ls_data_train, axis = 0)\n",
    "df_feature_test = pd.concat(ls_data_test, axis= 0)"
   ]
  },
  {
   "cell_type": "code",
   "execution_count": null,
   "metadata": {
    "collapsed": true
   },
   "outputs": [],
   "source": [
    "df_feature_train = df_feature_train.reset_index()\n",
    "df_feature_train = df_feature_train.drop('index', axis= 1)\n",
    "# merge index of the biggram and special number phrases in the feature dataframe\n",
    "df_feature_test = pd.merge(df_feature_test, df_num_phrases, on= 'num_phrases', how= 'left')\n",
    "df_feature_train = pd.merge(df_feature_train, df_num_phrases, on= 'num_phrases', how= 'left')"
   ]
  },
  {
   "cell_type": "code",
   "execution_count": null,
   "metadata": {
    "collapsed": true
   },
   "outputs": [],
   "source": [
    "# setup columns in the feature dataframe\n",
    "df_feature_test = df_feature_test[['id_x', 'id_y', 'count', 'num_phrases']]\n",
    "df_feature_test['id_x'] = df_feature_test['id_x'].astype('int')\n",
    "df_feature_test.id_y = df_feature_test.id_y.astype('int')\n",
    "df_feature_test.columns = ['id', 'id_num', 'count', 'num_phrases']\n",
    "\n",
    "df_feature_train = df_feature_train[['id_x', 'id_y', 'count', 'num_phrases']]\n",
    "df_feature_train['id_x'] = df_feature_train['id_x'].astype('int')\n",
    "df_feature_train.id_y = df_feature_train.id_y.astype(int)\n",
    "df_feature_train.columns = ['id', 'id_num', 'count', 'num_phrases']"
   ]
  },
  {
   "cell_type": "markdown",
   "metadata": {},
   "source": [
    "# create feature matrix of phone number"
   ]
  },
  {
   "cell_type": "code",
   "execution_count": null,
   "metadata": {
    "collapsed": true
   },
   "outputs": [],
   "source": [
    "feature_train = df_feature_train[['id', 'id_num', 'count']].as_matrix()\n",
    "feature_test = df_feature_test[['id', 'id_num', 'count']].as_matrix()\n",
    "feature_train[-2:]"
   ]
  },
  {
   "cell_type": "code",
   "execution_count": null,
   "metadata": {
    "collapsed": true
   },
   "outputs": [],
   "source": [
    "n_row_train = max(df_feature_train['id']) + 1\n",
    "n_row_test = max(df_feature_test['id']) + 1\n",
    "n_col = max(df_feature_train['id_num']) + 1\n",
    "print(n_row_train)\n",
    "print(n_row_test)\n",
    "print(n_col)"
   ]
  },
  {
   "cell_type": "code",
   "execution_count": null,
   "metadata": {
    "collapsed": true
   },
   "outputs": [],
   "source": [
    "X_train_sparse_csr = sparse.csr_matrix((feature_train[:, 2],(feature_train[:,0],feature_train[:,1])),(n_row_train,n_col))\n",
    "X_test_sparse_csr = sparse.csr_matrix((feature_test[:, 2], (feature_test[:, 0], feature_test[:, 1])),(n_row_test, n_col))"
   ]
  },
  {
   "cell_type": "code",
   "execution_count": null,
   "metadata": {
    "collapsed": true,
    "scrolled": true
   },
   "outputs": [],
   "source": [
    "# # save sparse matrix\n",
    "# joblib.dump(X_train_sparse_csr, 'X_sparse_train_ver2.pkl')\n",
    "# joblib.dump(X_test_sparse_csr, 'X_sparse_test_ver2.pkl')"
   ]
  },
  {
   "cell_type": "code",
   "execution_count": 9,
   "metadata": {},
   "outputs": [],
   "source": [
    "X_train_sparse_csr = joblib.load('feature_vector/X_sparse_train_ver2.pkl')\n",
    "X_test_sparse_csr = joblib.load('feature_vector/X_sparse_test_ver2.pkl')"
   ]
  },
  {
   "cell_type": "markdown",
   "metadata": {},
   "source": [
    "# visualize result"
   ]
  },
  {
   "cell_type": "code",
   "execution_count": 25,
   "metadata": {
    "code_folding": [],
    "collapsed": true
   },
   "outputs": [],
   "source": [
    "def compare_result(dictReportTrain, dictReportTest):\n",
    "    \n",
    "    # label set\n",
    "    lsTarget = [str(i) for i in np.sort(list(set(y_train)))]\n",
    "    # create a dataframe, contain the result of train test\n",
    "    df_result = pd.DataFrame(columns= ['target', 'f-1 train', 'f-1 test'])\n",
    "    \n",
    "    for key in lsTarget:\n",
    "        # convert float number\n",
    "        dict_i = {'target':key, \n",
    "                  'f-1 train':float(\"{:10.2f}\".format(dictReportTrain[key]['f1-score']*100)), \n",
    "                  'f-1 test':float(\"{:10.2f}\".format(dictReportTest[key]['f1-score']*100))}\n",
    "        df_result = df_result.append(dict_i, ignore_index=True)\n",
    "    #df_result = df_result.reset_index()\n",
    "    #df_result = df_result.drop('index', axis= 1)\n",
    "    dict_mircro = {'target':'accuracy', \n",
    "                  'f-1 train':float(\"{:10.2f}\".format(dictReportTrain['accuracy']*100)), \n",
    "                  'f-1 test':float(\"{:10.2f}\".format(dictReportTest['accuracy']*100))}\n",
    "    \n",
    "    df_result = df_result.append(dict_mircro, ignore_index= True)\n",
    "    \n",
    "    plt.figure(figsize= (15,7))\n",
    "    plt.plot(df_result.index, df_result['f-1 train'].values,'ob-', label='f-1 score in the train data')\n",
    "    plt.plot(df_result.index, df_result['f-1 test'].values,'or-', label='f-1 score in the test data')\n",
    "    plt.yticks(fontsize = 13)\n",
    "    plt.xticks(df_result.index, df_result.target, rotation = 0, fontsize = 15)\n",
    "    # Create legend\n",
    "    plt.legend(ncol=len(df_result.index.values), bbox_to_anchor=(0, 1),\n",
    "                  loc='lower left', fontsize=15)\n",
    "    plt.ylabel('Ratio correct predict', fontsize = 20, color= \"k\")\n",
    "    plt.xlabel('Target \\n\\n\\nration correct prediction in the train and test data follow', fontsize = 20, color= \"k\")\n",
    "    \n",
    "    plt.yticks(range(0, 110, 10))\n",
    "    # Show graphic\n",
    "    plt.grid()\n",
    "    plt.tight_layout()\n",
    "    #plt.savefig('report/report1.png')\n",
    "    plt.show()\n",
    "    #return df_result"
   ]
  },
  {
   "cell_type": "markdown",
   "metadata": {
    "collapsed": true
   },
   "source": [
    "# Random forest"
   ]
  },
  {
   "cell_type": "code",
   "execution_count": 11,
   "metadata": {},
   "outputs": [],
   "source": [
    "from sklearn.ensemble import RandomForestClassifier\n",
    "from sklearn.metrics import classification_report,confusion_matrix\n",
    "from sklearn import metrics"
   ]
  },
  {
   "cell_type": "code",
   "execution_count": 12,
   "metadata": {
    "collapsed": true
   },
   "outputs": [],
   "source": [
    "y_train = df_train.target.values\n",
    "y_test = df_test.target.values"
   ]
  },
  {
   "cell_type": "code",
   "execution_count": 13,
   "metadata": {
    "scrolled": true
   },
   "outputs": [
    {
     "data": {
      "text/plain": [
       "RandomForestClassifier(bootstrap=True, class_weight=None, criterion='gini',\n",
       "                       max_depth=20, max_features='auto', max_leaf_nodes=None,\n",
       "                       min_impurity_decrease=0.0, min_impurity_split=None,\n",
       "                       min_samples_leaf=10, min_samples_split=10,\n",
       "                       min_weight_fraction_leaf=0.0, n_estimators=1000,\n",
       "                       n_jobs=-1, oob_score=False, random_state=None, verbose=0,\n",
       "                       warm_start=False)"
      ]
     },
     "execution_count": 13,
     "metadata": {},
     "output_type": "execute_result"
    }
   ],
   "source": [
    "classifier = RandomForestClassifier(n_estimators = 1000, max_depth= 20, min_samples_split= 10, min_samples_leaf= 10, n_jobs= -1 )\n",
    "classifier.fit(X_train_sparse_csr, y_train)"
   ]
  },
  {
   "cell_type": "code",
   "execution_count": 14,
   "metadata": {},
   "outputs": [
    {
     "name": "stdout",
     "output_type": "stream",
     "text": [
      "              precision    recall  f1-score   support\n",
      "\n",
      "           0       0.78      0.23      0.36     40004\n",
      "           1       1.00      0.00      0.00     20266\n",
      "           2       0.59      0.95      0.73    215737\n",
      "           3       0.73      0.44      0.55    159995\n",
      "           4       0.78      0.26      0.39     29010\n",
      "           5       0.89      0.59      0.71     11014\n",
      "\n",
      "    accuracy                           0.63    476026\n",
      "   macro avg       0.79      0.41      0.46    476026\n",
      "weighted avg       0.69      0.63      0.58    476026\n",
      "\n"
     ]
    }
   ],
   "source": [
    "y_pred = classifier.predict(X_train_sparse_csr)\n",
    "    # outcome is dictionary: output_dict= True\n",
    "dictReportTrain = classification_report(y_pred = y_pred, y_true= y_train, output_dict= True)\n",
    "print(classification_report(y_pred = y_pred, y_true= y_train))"
   ]
  },
  {
   "cell_type": "code",
   "execution_count": 17,
   "metadata": {
    "scrolled": true
   },
   "outputs": [
    {
     "name": "stdout",
     "output_type": "stream",
     "text": [
      "              precision    recall  f1-score   support\n",
      "\n",
      "           0       0.78      0.24      0.36      9934\n",
      "           1       0.00      0.00      0.00      5004\n",
      "           2       0.59      0.95      0.72     54175\n",
      "           3       0.73      0.44      0.54     40017\n",
      "           4       0.75      0.24      0.37      7188\n",
      "           5       0.89      0.58      0.70      2690\n",
      "\n",
      "    accuracy                           0.63    119008\n",
      "   macro avg       0.62      0.41      0.45    119008\n",
      "weighted avg       0.64      0.63      0.58    119008\n",
      "\n"
     ]
    }
   ],
   "source": [
    "y_pred = classifier.predict(X_test_sparse_csr)\n",
    "    # outcome is dictionary: output_dict= True\n",
    "dictReportTest = classification_report(y_pred = y_pred, y_true= y_test, output_dict= True)\n",
    "print(classification_report(y_pred = y_pred, y_true= y_test))"
   ]
  },
  {
   "cell_type": "code",
   "execution_count": 26,
   "metadata": {},
   "outputs": [
    {
     "data": {
      "image/png": "[encoded data removed]",
      "text/plain": [
       "<Figure size 1080x504 with 1 Axes>"
      ]
     },
     "metadata": {
      "needs_background": "light"
     },
     "output_type": "display_data"
    }
   ],
   "source": [
    "compare_result(dictReportTrain, dictReportTest)"
   ]
  },
  {
   "cell_type": "code",
   "execution_count": null,
   "metadata": {},
   "outputs": [],
   "source": [
    "classifier = RandomForestClassifier(n_estimators = 1000, min_samples_split= 10, min_samples_leaf= 10, n_jobs= -1 )\n",
    "classifier.fit(X_train_sparse_csr, y_train)"
   ]
  },
  {
   "cell_type": "code",
   "execution_count": null,
   "metadata": {},
   "outputs": [],
   "source": [
    "y_pred0 = classifier.predict(X_train_sparse_csr)\n",
    "    # outcome is dictionary: output_dict= True\n",
    "dictReportTrain = classification_report(y_pred = y_pred0, y_true= y_train, output_dict= True)\n",
    "print(classification_report(y_pred = y_pred0, y_true= y_train))"
   ]
  },
  {
   "cell_type": "code",
   "execution_count": null,
   "metadata": {},
   "outputs": [],
   "source": [
    "y_pred0 = classifier.predict(X_test_sparse_csr)\n",
    "    # outcome is dictionary: output_dict= True\n",
    "dictReportTest = classification_report(y_pred = y_pred0, y_true= y_test, output_dict= True)\n",
    "print(classification_report(y_pred = y_pred0, y_true= y_test))"
   ]
  },
  {
   "cell_type": "code",
   "execution_count": null,
   "metadata": {},
   "outputs": [],
   "source": [
    "compare_result(dictReportTrain, dictReportTest)"
   ]
  },
  {
   "cell_type": "code",
   "execution_count": null,
   "metadata": {
    "collapsed": true
   },
   "outputs": [],
   "source": [
    "classifier1 = RandomForestClassifier(n_estimators = 1000, min_samples_split= 10, min_samples_leaf= 10, n_jobs= -1 )\n",
    "classifier1.fit(X_train_sparse_csr, y_train)"
   ]
  },
  {
   "cell_type": "code",
   "execution_count": null,
   "metadata": {
    "collapsed": true
   },
   "outputs": [],
   "source": [
    "y_pred1 = classifier1.predict(X_train_sparse_csr)\n",
    "    # outcome is dictionary: output_dict= True\n",
    "dictReportTrain1 = classification_report(y_pred = y_pred1, y_true= y_train, output_dict= True)\n",
    "print(classification_report(y_pred = y_pred1, y_true= y_train))\n"
   ]
  },
  {
   "cell_type": "code",
   "execution_count": null,
   "metadata": {
    "collapsed": true
   },
   "outputs": [],
   "source": [
    "y_pred1 = classifier1.predict(X_test_sparse_csr)\n",
    "dictReportTest1 = classification_report(y_pred = y_pred1, y_true= y_test, output_dict= True)\n",
    "print(classification_report(y_pred = y_pred1, y_true= y_test))"
   ]
  },
  {
   "cell_type": "code",
   "execution_count": null,
   "metadata": {
    "collapsed": true
   },
   "outputs": [],
   "source": [
    "compare_result(dictReportTrain1, dictReportTest1)"
   ]
  },
  {
   "cell_type": "code",
   "execution_count": null,
   "metadata": {
    "collapsed": true
   },
   "outputs": [],
   "source": [
    "joblib.dump(classifier1, 'random_forest_ver2.pkl')"
   ]
  },
  {
   "cell_type": "code",
   "execution_count": null,
   "metadata": {
    "collapsed": true
   },
   "outputs": [],
   "source": []
  },
  {
   "cell_type": "code",
   "execution_count": null,
   "metadata": {
    "collapsed": true
   },
   "outputs": [],
   "source": [
    "classifier2 = RandomForestClassifier(n_estimators = 369, min_samples_split= 3, min_samples_leaf= 3, n_jobs= -1 )\n",
    "classifier2.fit(X_train_sparse_csr, y_train)"
   ]
  },
  {
   "cell_type": "code",
   "execution_count": null,
   "metadata": {
    "collapsed": true
   },
   "outputs": [],
   "source": [
    "y_pred2 = classifier2.predict(X_train_sparse_csr)\n",
    "dictReportTrain2 = classification_report(y_pred = y_pred2, y_true= y_train, output_dict= True)\n",
    "print(classification_report(y_pred = y_pred2, y_true= y_train))"
   ]
  },
  {
   "cell_type": "code",
   "execution_count": null,
   "metadata": {
    "collapsed": true
   },
   "outputs": [],
   "source": [
    "y_pred2 = classifier2.predict(X_test_sparse_csr)\n",
    "dictReportTest2 = classification_report(y_pred = y_pred2, y_true= y_test, output_dict= True)\n",
    "print(classification_report(y_pred = y_pred2, y_true= y_test))"
   ]
  },
  {
   "cell_type": "code",
   "execution_count": null,
   "metadata": {
    "collapsed": true
   },
   "outputs": [],
   "source": [
    "compare_result(dictReportTrain2, dictReportTest2)"
   ]
  },
  {
   "cell_type": "code",
   "execution_count": null,
   "metadata": {
    "collapsed": true
   },
   "outputs": [],
   "source": [
    "classifier3 = RandomForestClassifier(n_estimators = 369, min_samples_split= 2, min_samples_leaf= 2, n_jobs= -1 )\n",
    "classifier3.fit(X_train_sparse_csr, y_train)"
   ]
  },
  {
   "cell_type": "code",
   "execution_count": null,
   "metadata": {
    "collapsed": true
   },
   "outputs": [],
   "source": [
    "y_pred3 = classifier3.predict(X_train_sparse_csr)\n",
    "dictReportTrain3 = classification_report(y_pred = y_pred3, y_true= y_train, output_dict= True)\n",
    "print(classification_report(y_pred = y_pred3, y_true= y_train))"
   ]
  },
  {
   "cell_type": "code",
   "execution_count": null,
   "metadata": {
    "collapsed": true
   },
   "outputs": [],
   "source": [
    "y_pred3 = classifier3.predict(X_test_sparse_csr)\n",
    "dictReportTest3 = classification_report(y_pred = y_pred3, y_true= y_test, output_dict= True)\n",
    "print(classification_report(y_pred = y_pred3, y_true= y_test))"
   ]
  },
  {
   "cell_type": "code",
   "execution_count": null,
   "metadata": {
    "collapsed": true
   },
   "outputs": [],
   "source": [
    "compare_result(dictReportTrain3, dictReportTest3)"
   ]
  },
  {
   "cell_type": "code",
   "execution_count": null,
   "metadata": {
    "collapsed": true
   },
   "outputs": [],
   "source": []
  },
  {
   "cell_type": "markdown",
   "metadata": {},
   "source": [
    "# neural network"
   ]
  },
  {
   "cell_type": "code",
   "execution_count": null,
   "metadata": {
    "scrolled": true
   },
   "outputs": [],
   "source": [
    "from keras.models import Sequential\n",
    "from keras.layers import Dense, Embedding, LSTM, SpatialDropout1D, Dropout\n",
    "from keras.callbacks import EarlyStopping, ModelCheckpoint\n",
    "from keras import optimizers\n",
    "from sklearn.preprocessing import LabelEncoder\n",
    "from sklearn.preprocessing import OneHotEncoder"
   ]
  },
  {
   "cell_type": "code",
   "execution_count": null,
   "metadata": {
    "scrolled": true
   },
   "outputs": [],
   "source": [
    "!pip install tensorflow"
   ]
  },
  {
   "cell_type": "code",
   "execution_count": null,
   "metadata": {
    "collapsed": true,
    "scrolled": true
   },
   "outputs": [],
   "source": [
    "set(y_train)"
   ]
  },
  {
   "cell_type": "code",
   "execution_count": null,
   "metadata": {
    "code_folding": [
     0
    ],
    "collapsed": true
   },
   "outputs": [],
   "source": [
    "## one hot encoding\n",
    "# # define example\n",
    "# data = ['cold', 'cold', 'warm', 'cold', 'hot', 'hot', 'warm', 'cold', 'warm', 'hot']\n",
    "# values = array(data)\n",
    "# print(values)\n",
    "# # integer encode\n",
    "# label_encoder = LabelEncoder()\n",
    "# integer_encoded = label_encoder.fit_transform(values)\n",
    "# print(integer_encoded)\n",
    "# # binary encode\n",
    "# onehot_encoder = OneHotEncoder(sparse=False)\n",
    "# integer_encoded = integer_encoded.reshape(len(integer_encoded), 1)\n",
    "# onehot_encoded = onehot_encoder.fit_transform(integer_encoded)\n",
    "# print(onehot_encoded)\n",
    "# # invert first example\n",
    "# inverted = label_encoder.inverse_transform([argmax(onehot_encoded[0, :])])\n",
    "# print(inverted)"
   ]
  },
  {
   "cell_type": "code",
   "execution_count": null,
   "metadata": {
    "code_folding": [
     0
    ],
    "collapsed": true
   },
   "outputs": [],
   "source": [
    "# binary encode\n",
    "# train\n",
    "print(y_train.shape)\n",
    "print(y_train[:5])\n",
    "onehot_encoder = OneHotEncoder(sparse=False)\n",
    "y_train = y_train.reshape(len(y_train), 1)\n",
    "y_train_onehot = onehot_encoder.fit_transform(y_train)\n",
    "print(y_train_onehot.shape)\n",
    "print(y_train_onehot[:5])\n",
    "\n",
    "# test\n",
    "print(y_test.shape)\n",
    "print(y_test[:5])\n",
    "y_test = y_test.reshape(len(y_test), 1)\n",
    "y_test_onehot = onehot_encoder.fit_transform(y_test)\n",
    "print(y_test_onehot.shape)\n",
    "print(y_test_onehot[:5])"
   ]
  },
  {
   "cell_type": "code",
   "execution_count": null,
   "metadata": {
    "collapsed": true,
    "scrolled": true
   },
   "outputs": [],
   "source": [
    "# # create neural network model\n",
    "model = Sequential()\n",
    "model.add(Dense(128, input_dim=X_train_sparse_csr.shape[1], activation='relu'))\n",
    "model.add(Dropout(0.5))\n",
    "model.add(Dense(64, activation='relu'))\n",
    "model.add(Dropout(0.5))\n",
    "model.add(Dense(32, activation='relu'))\n",
    "model.add(Dropout(0.5))\n",
    "# we have 6 output\n",
    "model.add(Dense(6 , activation='sigmoid'))\n",
    "\n",
    "# in the classification problem have the many class,  use: loss='categorical_crossentropy'\n",
    "# in the classification problem have the 2 class, use: loss='binary_crossentropy'\n",
    "model.compile(loss='categorical_crossentropy',\n",
    "              optimizer='rmsprop',\n",
    "              metrics=['accuracy'])\n",
    "\n",
    "# bien save model\n",
    "check_point = ModelCheckpoint('neural_network.h5', monitor='val_loss', save_best_only=True)\n",
    "\n",
    "# label format is onehot encoding\n",
    "model.fit(X_train_sparse_csr.todense(), y_train_onehot,\n",
    "          epochs=20,\n",
    "          validation_split=0.1,\n",
    "          callbacks= [ check_point],\n",
    "          batch_size=10)"
   ]
  },
  {
   "cell_type": "code",
   "execution_count": null,
   "metadata": {
    "collapsed": true
   },
   "outputs": [],
   "source": []
  },
  {
   "cell_type": "code",
   "execution_count": null,
   "metadata": {
    "collapsed": true
   },
   "outputs": [],
   "source": []
  },
  {
   "cell_type": "code",
   "execution_count": null,
   "metadata": {
    "collapsed": true
   },
   "outputs": [],
   "source": []
  },
  {
   "cell_type": "code",
   "execution_count": null,
   "metadata": {
    "collapsed": true
   },
   "outputs": [],
   "source": []
  },
  {
   "cell_type": "code",
   "execution_count": null,
   "metadata": {
    "collapsed": true
   },
   "outputs": [],
   "source": []
  },
  {
   "cell_type": "code",
   "execution_count": null,
   "metadata": {
    "collapsed": true
   },
   "outputs": [],
   "source": []
  },
  {
   "cell_type": "code",
   "execution_count": null,
   "metadata": {
    "collapsed": true
   },
   "outputs": [],
   "source": []
  }
 ],
 "metadata": {
  "kernelspec": {
   "display_name": "Python 3",
   "language": "python",
   "name": "python3"
  },
  "language_info": {
   "codemirror_mode": {
    "name": "ipython",
    "version": 3
   },
   "file_extension": ".py",
   "mimetype": "text/x-python",
   "name": "python",
   "nbconvert_exporter": "python",
   "pygments_lexer": "ipython3",
   "version": "3.6.8"
  }
 },
 "nbformat": 4,
 "nbformat_minor": 2
}
