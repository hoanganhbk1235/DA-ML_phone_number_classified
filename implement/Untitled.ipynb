{
 "cells": [
  {
   "cell_type": "code",
   "execution_count": 6,
   "metadata": {
    "collapsed": true
   },
   "outputs": [],
   "source": [
    "import pandas as pd\n",
    "import numpy as np\n",
    "import re"
   ]
  },
  {
   "cell_type": "code",
   "execution_count": 7,
   "metadata": {
    "collapsed": true
   },
   "outputs": [],
   "source": [
    "# n-gram\n",
    "def generate_ngrams(text, n_gram= 2):\n",
    "    text = str(text)\n",
    "    token = [str(i) for i in text]\n",
    "    #print(token)\n",
    "    ngrams = zip(*[token[i:] for i in range(n_gram)])\n",
    "    #print(ngrams)\n",
    "    ngrams1 = \"|\".join([\" \".join(ngram) for ngram in ngrams])\n",
    "    ngrams1 = re.sub('\\s+', '', ngrams1)\n",
    "    return ngrams1.strip()"
   ]
  },
  {
   "cell_type": "code",
   "execution_count": 8,
   "metadata": {},
   "outputs": [],
   "source": [
    "ngu = [str(i)*5 for i in range(0,10)]\n",
    "so_tang5 = generate_ngrams('0123456789', n_gram= 5).split('|')\n",
    "so_giam5 = generate_ngrams('9876543210', n_gram= 5).split('|')"
   ]
  },
  {
   "cell_type": "code",
   "execution_count": null,
   "metadata": {
    "collapsed": true
   },
   "outputs": [],
   "source": [
    "a= ngu + so_giam5 + so_tang5"
   ]
  }
 ],
 "metadata": {
  "kernelspec": {
   "display_name": "Python 3",
   "language": "python",
   "name": "python3"
  },
  "language_info": {
   "codemirror_mode": {
    "name": "ipython",
    "version": 3
   },
   "file_extension": ".py",
   "mimetype": "text/x-python",
   "name": "python",
   "nbconvert_exporter": "python",
   "pygments_lexer": "ipython3",
   "version": "3.6.7"
  }
 },
 "nbformat": 4,
 "nbformat_minor": 2
}
