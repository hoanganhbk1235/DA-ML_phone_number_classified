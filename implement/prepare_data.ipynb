{
 "cells": [
  {
   "cell_type": "code",
   "execution_count": 1,
   "metadata": {
    "collapsed": true
   },
   "outputs": [],
   "source": [
    "import json\n",
    "import pandas as pd\n",
    "import numpy as np\n",
    "import os, sys\n",
    "import re"
   ]
  },
  {
   "cell_type": "code",
   "execution_count": 2,
   "metadata": {},
   "outputs": [
    {
     "name": "stdout",
     "output_type": "stream",
     "text": [
      "14\n",
      "['sim_ngu_quy.json', 'sim_tu_quy.json']\n"
     ]
    }
   ],
   "source": [
    "# load all files in the folder\n",
    "file = '.../phone_number_classified/crawl_data/data'\n",
    "dirs = os.listdir(file)\n",
    "print(len(dirs))\n",
    "print(dirs[:2])"
   ]
  },
  {
   "cell_type": "code",
   "execution_count": 3,
   "metadata": {},
   "outputs": [
    {
     "name": "stdout",
     "output_type": "stream",
     "text": [
      "sim_ngu_quy.json\n",
      "sim_tu_quy.json\n",
      "sim_add_01.json\n",
      "sim_ong_dia.json\n",
      "sim_thuong_2.json\n",
      "sim_thuong1.json\n",
      "sim_luc_quy.json\n",
      "sim_thuong_00.json\n",
      "sim2.json\n",
      "sim_thuong_3.json\n",
      "sim_add_02.json\n",
      "sim_loc_phat.json\n",
      "sim_than_tai.json\n",
      "sim_thuong_03.json\n"
     ]
    }
   ],
   "source": [
    "ls_data = []\n",
    "for file in dirs:\n",
    "    print(file)\n",
    "    keys_file = open(\".../phone_number_classified/crawl_data/data/{}\".format(file))\n",
    "    keys = keys_file.read().encode('utf-8')\n",
    "    keys_json = json.loads(keys)\n",
    "    df = pd.DataFrame.from_dict(keys_json)\n",
    "    ls_data.append(df)"
   ]
  },
  {
   "cell_type": "code",
   "execution_count": 4,
   "metadata": {},
   "outputs": [
    {
     "data": {
      "text/html": [
       "<div>\n",
       "<style scoped>\n",
       "    .dataframe tbody tr th:only-of-type {\n",
       "        vertical-align: middle;\n",
       "    }\n",
       "\n",
       "    .dataframe tbody tr th {\n",
       "        vertical-align: top;\n",
       "    }\n",
       "\n",
       "    .dataframe thead th {\n",
       "        text-align: right;\n",
       "    }\n",
       "</style>\n",
       "<table border=\"1\" class=\"dataframe\">\n",
       "  <thead>\n",
       "    <tr style=\"text-align: right;\">\n",
       "      <th></th>\n",
       "      <th>phone_number</th>\n",
       "      <th>price</th>\n",
       "    </tr>\n",
       "  </thead>\n",
       "  <tbody>\n",
       "    <tr>\n",
       "      <th>0</th>\n",
       "      <td>0997188888</td>\n",
       "      <td>Giá: 517,040,000</td>\n",
       "    </tr>\n",
       "  </tbody>\n",
       "</table>\n",
       "</div>"
      ],
      "text/plain": [
       "  phone_number              price\n",
       "0   0997188888  Giá: 517,040,000 "
      ]
     },
     "execution_count": 4,
     "metadata": {},
     "output_type": "execute_result"
    }
   ],
   "source": [
    "df_data = pd.concat(ls_data)\n",
    "df_data = df_data.dropna()\n",
    "df_data.phone_number = df_data.phone_number.astype('str')\n",
    "df_data.price = df_data.price.astype('str')\n",
    "df_data.head(1)"
   ]
  },
  {
   "cell_type": "markdown",
   "metadata": {},
   "source": [
    "# preprocessing data"
   ]
  },
  {
   "cell_type": "code",
   "execution_count": 5,
   "metadata": {},
   "outputs": [
    {
     "data": {
      "text/html": [
       "<div>\n",
       "<style scoped>\n",
       "    .dataframe tbody tr th:only-of-type {\n",
       "        vertical-align: middle;\n",
       "    }\n",
       "\n",
       "    .dataframe tbody tr th {\n",
       "        vertical-align: top;\n",
       "    }\n",
       "\n",
       "    .dataframe thead th {\n",
       "        text-align: right;\n",
       "    }\n",
       "</style>\n",
       "<table border=\"1\" class=\"dataframe\">\n",
       "  <thead>\n",
       "    <tr style=\"text-align: right;\">\n",
       "      <th></th>\n",
       "      <th>phone_number</th>\n",
       "      <th>price</th>\n",
       "      <th>price_1</th>\n",
       "      <th>phone_number_1</th>\n",
       "    </tr>\n",
       "  </thead>\n",
       "  <tbody>\n",
       "    <tr>\n",
       "      <th>0</th>\n",
       "      <td>0997188888</td>\n",
       "      <td>Giá: 517,040,000</td>\n",
       "      <td>517040000</td>\n",
       "      <td>0997188888</td>\n",
       "    </tr>\n",
       "  </tbody>\n",
       "</table>\n",
       "</div>"
      ],
      "text/plain": [
       "  phone_number              price    price_1 phone_number_1\n",
       "0   0997188888  Giá: 517,040,000   517040000     0997188888"
      ]
     },
     "execution_count": 5,
     "metadata": {},
     "output_type": "execute_result"
    }
   ],
   "source": [
    "def normlize_number_sequence(num_sequence):\n",
    "    # convert tất cả những ký tự lớn hơn 2 khoảng trắng trởlên thành 1 khoảng trắng\n",
    "    #num_sequence = re.sub(r'\\s+', ' ', num_sequence)\n",
    "    num_sequence = (num_sequence.lower()).strip()\n",
    "    # xóa tất cả ký tự không phải là số\n",
    "    sequence = re.sub(r'\\D','', num_sequence)\n",
    "    return  sequence.strip()\n",
    "df_data['price_1'] = df_data.price.apply(normlize_number_sequence)\n",
    "df_data['phone_number_1'] = df_data.phone_number.apply(normlize_number_sequence)\n",
    "df_data.head(1)"
   ]
  },
  {
   "cell_type": "code",
   "execution_count": 6,
   "metadata": {
    "collapsed": true
   },
   "outputs": [],
   "source": [
    "df_data.price_1 = df_data.price_1.astype('float')\n",
    "df_data = df_data.drop(['phone_number', 'price'], axis= 1)"
   ]
  },
  {
   "cell_type": "code",
   "execution_count": null,
   "metadata": {
    "collapsed": true
   },
   "outputs": [],
   "source": [
    "#  create a dictionary, convert dau so di dong\n",
    "convert_dau_so = dict()\n",
    "convert_dau_so['162'] = '32'\n",
    "convert_dau_so['163'] = '33'\n",
    "convert_dau_so['164'] = '34'\n",
    "convert_dau_so['165'] = '35'\n",
    "convert_dau_so['166'] = '36'\n",
    "convert_dau_so['167'] = '37'\n",
    "convert_dau_so['168'] = '38'\n",
    "convert_dau_so['169'] = '39'\n",
    "convert_dau_so['120'] = '70'\n",
    "convert_dau_so['121'] = '79'\n",
    "convert_dau_so['122'] = '77'\n",
    "convert_dau_so['126'] = '76'\n",
    "convert_dau_so['128'] = '78'\n",
    "convert_dau_so['123'] = '83'\n",
    "convert_dau_so['124'] = '84'\n",
    "convert_dau_so['125'] = '85'\n",
    "convert_dau_so['127'] = '81'\n",
    "convert_dau_so['129'] = '82'\n",
    "convert_dau_so['199'] = '59'\n",
    "\n",
    "# normalize mobile number\n",
    "def norm_phone(phone_number):\n",
    "    '''normalize mobile number (str)'''\n",
    "    if phone_number[0] == '0':\n",
    "        phone = phone_number[1:]\n",
    "    else:\n",
    "        phone = phone_number\n",
    "    if phone[:3] in convert_dau_so.keys():\n",
    "        phone = convert_dau_so[phone[:3]] + phone[3:]\n",
    "    return phone"
   ]
  },
  {
   "cell_type": "code",
   "execution_count": null,
   "metadata": {
    "collapsed": true
   },
   "outputs": [],
   "source": []
  },
  {
   "cell_type": "code",
   "execution_count": null,
   "metadata": {
    "collapsed": true
   },
   "outputs": [],
   "source": []
  },
  {
   "cell_type": "code",
   "execution_count": null,
   "metadata": {
    "collapsed": true
   },
   "outputs": [],
   "source": [
    "def norm_phone(phone_number):\n",
    "    '''normalize phone number (str)'''\n",
    "    phone_number = str(phone_number)\n",
    "    if phone_number[0] == '0':\n",
    "        phone_number = phone_number[1:]\n",
    "    return phone_number\n",
    "def count_char(phone_number):\n",
    "    '''count the character amount, before normalize phone number'''\n",
    "    phone_number = str(phone_number)\n",
    "    return len(phone_number)\n",
    "\n",
    "df_data['phone_number'] = df_data.phone_number_1.apply(norm_phone)\n",
    "df_data['length_of_phone_number'] = df_data.phone_number.apply(count_char)\n",
    "df_data = df_data.drop('phone_number_1', axis= 1)\n",
    "df_data.head(2)"
   ]
  },
  {
   "cell_type": "code",
   "execution_count": null,
   "metadata": {
    "collapsed": true
   },
   "outputs": [],
   "source": [
    "df_data = df_data[df_data.length_of_phone_number == 9]\n",
    "df_data = df_data.drop_duplicates(subset= ['phone_number'])\n",
    "df_data = df_data.dropna()\n",
    "df_data.columns = ['price', 'phone_number', 'length_of_phone_number']\n",
    "df_data.head(2)"
   ]
  },
  {
   "cell_type": "markdown",
   "metadata": {},
   "source": [
    "1. target\n",
    "+ < 200.000 : 0\n",
    "+ 200.000 - 499.000: 1\n",
    "+ 500.000 - 999.000: 2\n",
    "+ 1.000.000- 1.999.000: 3\n",
    "+ 2.000.000- 4.999.000: 4\n",
    "+ 5.000.000 - 9.999.000: 5\n",
    "+ 10.000.000 - 19.999.000: 6\n",
    "+ 20.000.000 - 49.999.000: 7\n",
    "+ \\> 50.000.000: 8"
   ]
  },
  {
   "cell_type": "code",
   "execution_count": null,
   "metadata": {
    "code_folding": [],
    "collapsed": true
   },
   "outputs": [],
   "source": [
    "# convert target 1\n",
    "def convert_label(price):\n",
    "    if price < 200000:\n",
    "        return 0\n",
    "    elif (price >= 200000) & (price < 500000):\n",
    "        return 1\n",
    "    elif (price >= 500000) & (price < 1000000):\n",
    "        return 2\n",
    "    elif (price >= 1000000) & (price < 2000000):\n",
    "        return 3\n",
    "    elif (price >= 2000000) & (price < 5000000):\n",
    "        return 4\n",
    "    elif (price >= 5000000) & (price < 10000000):\n",
    "        return 5\n",
    "    elif (price >= 10000000) & (price < 20000000):\n",
    "        return 6\n",
    "    elif (price >= 20000000) & (price < 50000000):\n",
    "        return 7\n",
    "    elif (price >= 50000000):\n",
    "        return 8\n",
    "    else:\n",
    "        pass\n",
    "df_data['target1'] = df_data.price.apply(convert_label)"
   ]
  },
  {
   "cell_type": "markdown",
   "metadata": {},
   "source": [
    "1. new target\n",
    "+ < 200.000 : 0\n",
    "+ 200.000 - 1.499.000: 1\n",
    "+ 1.500.000- 9.999.000: 2\n",
    "+ 10.000.000 - 49.999.000: 3\n",
    "+ \\> 50.000.000: 4"
   ]
  },
  {
   "cell_type": "code",
   "execution_count": null,
   "metadata": {
    "collapsed": true
   },
   "outputs": [],
   "source": [
    "# convert target 2\n",
    "def convert_label2(price):\n",
    "    if price < 200000:\n",
    "        return 0\n",
    "    elif (price >= 200000) & (price < 1500000):\n",
    "        return 1\n",
    "    elif (price >= 1500000) & (price < 10000000):\n",
    "        return 2\n",
    "    elif (price >= 10000000) & (price < 50000000):\n",
    "        return 3\n",
    "    elif (price >= 50000000):\n",
    "        return 4\n",
    "    else:\n",
    "        pass\n",
    "df_data['target2'] = df_data.price.apply(convert_label2)"
   ]
  },
  {
   "cell_type": "code",
   "execution_count": null,
   "metadata": {
    "collapsed": true
   },
   "outputs": [],
   "source": [
    "df_data.target2 = df_data.target2.astype('int')"
   ]
  },
  {
   "cell_type": "code",
   "execution_count": null,
   "metadata": {
    "collapsed": true,
    "scrolled": true
   },
   "outputs": [],
   "source": [
    "df_data = df_data.reset_index()\n",
    "df_data = df_data.drop('index', axis= 1)"
   ]
  },
  {
   "cell_type": "code",
   "execution_count": null,
   "metadata": {
    "collapsed": true
   },
   "outputs": [],
   "source": [
    "df_data.target1.value_counts()"
   ]
  },
  {
   "cell_type": "code",
   "execution_count": null,
   "metadata": {
    "collapsed": true
   },
   "outputs": [],
   "source": [
    "df_data.target2.value_counts()"
   ]
  },
  {
   "cell_type": "code",
   "execution_count": null,
   "metadata": {
    "collapsed": true
   },
   "outputs": [],
   "source": []
  },
  {
   "cell_type": "code",
   "execution_count": null,
   "metadata": {
    "collapsed": true
   },
   "outputs": [],
   "source": []
  },
  {
   "cell_type": "code",
   "execution_count": null,
   "metadata": {
    "collapsed": true
   },
   "outputs": [],
   "source": []
  },
  {
   "cell_type": "code",
   "execution_count": null,
   "metadata": {
    "collapsed": true
   },
   "outputs": [],
   "source": [
    "df_data.columns"
   ]
  },
  {
   "cell_type": "code",
   "execution_count": null,
   "metadata": {
    "collapsed": true
   },
   "outputs": [],
   "source": [
    "df_data = df_data.reset_index()\n",
    "df_data.columns = ['id','price', 'phone_number', 'length_of_phone_number', 'target1', 'target2']"
   ]
  },
  {
   "cell_type": "code",
   "execution_count": null,
   "metadata": {
    "collapsed": true,
    "scrolled": true
   },
   "outputs": [],
   "source": [
    "df_data.shape"
   ]
  },
  {
   "cell_type": "markdown",
   "metadata": {},
   "source": [
    "# split train test"
   ]
  },
  {
   "cell_type": "code",
   "execution_count": null,
   "metadata": {
    "collapsed": true
   },
   "outputs": [],
   "source": [
    "from sklearn.model_selection import train_test_split"
   ]
  },
  {
   "cell_type": "code",
   "execution_count": null,
   "metadata": {
    "collapsed": true
   },
   "outputs": [],
   "source": [
    "idxs = df_data.id.values\n",
    "targets = df_data.target2.values\n",
    "id_train, id_test, target_train, target_test = train_test_split(idxs, targets, test_size = 0.2)"
   ]
  },
  {
   "cell_type": "code",
   "execution_count": null,
   "metadata": {
    "collapsed": true
   },
   "outputs": [],
   "source": [
    "df_train = df_data[df_data.id.isin(id_train)]\n",
    "df_train = df_train.dropna()\n",
    "df_train = df_train.reset_index()\n",
    "df_train = df_train.drop(['index', 'id', 'length_of_phone_number'], axis= 1)\n",
    "print(df_train.shape)\n",
    "df_test = df_data[~df_data.id.isin(id_train)]\n",
    "df_test = df_test.dropna()\n",
    "df_test = df_test.reset_index()\n",
    "df_test = df_test.drop(['index', 'id', 'length_of_phone_number'], axis= 1)\n",
    "print(df_test.shape)"
   ]
  },
  {
   "cell_type": "code",
   "execution_count": null,
   "metadata": {
    "collapsed": true
   },
   "outputs": [],
   "source": [
    "df_test = df_test.reset_index()\n",
    "df_test.columns = ['id_phone_test','price', 'phone_number', 'target1', 'target2']\n",
    "df_train = df_train.reset_index()\n",
    "df_train.columns = ['id_phone_train','price', 'phone_number', 'target1', 'target2']\n",
    "df_train.head(1)"
   ]
  },
  {
   "cell_type": "code",
   "execution_count": null,
   "metadata": {
    "collapsed": true
   },
   "outputs": [],
   "source": [
    "df_train.target2 = df_train.target2.astype('int')\n",
    "df_test.target2 = df_test.target2.astype('int')"
   ]
  },
  {
   "cell_type": "code",
   "execution_count": null,
   "metadata": {
    "collapsed": true
   },
   "outputs": [],
   "source": []
  },
  {
   "cell_type": "code",
   "execution_count": null,
   "metadata": {
    "collapsed": true
   },
   "outputs": [],
   "source": [
    "writer = pd.ExcelWriter('train_data.xlsx', engine='xlsxwriter')\n",
    "df_train.to_excel(writer, 'Sheet1', encoding= 'utf-8', index= False)\n",
    "writer.save()"
   ]
  },
  {
   "cell_type": "code",
   "execution_count": null,
   "metadata": {
    "collapsed": true
   },
   "outputs": [],
   "source": [
    "writer = pd.ExcelWriter('test_data.xlsx', engine='xlsxwriter')\n",
    "df_test.to_excel(writer, 'Sheet1', encoding= 'utf-8', index= False)\n",
    "writer.save()"
   ]
  },
  {
   "cell_type": "code",
   "execution_count": null,
   "metadata": {
    "collapsed": true
   },
   "outputs": [],
   "source": [
    "# df_train = pd.ExcelFile('train_data.xlsx', encoding= 'utf-8').parse('Sheet1')"
   ]
  },
  {
   "cell_type": "code",
   "execution_count": null,
   "metadata": {
    "collapsed": true,
    "scrolled": true
   },
   "outputs": [],
   "source": [
    "# df_train"
   ]
  },
  {
   "cell_type": "code",
   "execution_count": null,
   "metadata": {
    "collapsed": true
   },
   "outputs": [],
   "source": []
  }
 ],
 "metadata": {
  "kernelspec": {
   "display_name": "Python 3",
   "language": "python",
   "name": "python3"
  },
  "language_info": {
   "codemirror_mode": {
    "name": "ipython",
    "version": 3
   },
   "file_extension": ".py",
   "mimetype": "text/x-python",
   "name": "python",
   "nbconvert_exporter": "python",
   "pygments_lexer": "ipython3",
   "version": "3.6.8"
  }
 },
 "nbformat": 4,
 "nbformat_minor": 2
}
