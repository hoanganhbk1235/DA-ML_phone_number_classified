{
 "cells": [
  {
   "cell_type": "code",
   "execution_count": 1,
   "metadata": {
    "collapsed": true
   },
   "outputs": [],
   "source": [
    "import json\n",
    "import pandas as pd\n",
    "import numpy as np\n",
    "import os, sys\n",
    "import re"
   ]
  },
  {
   "cell_type": "markdown",
   "metadata": {},
   "source": [
    "# load data"
   ]
  },
  {
   "cell_type": "code",
   "execution_count": 2,
   "metadata": {},
   "outputs": [
    {
     "name": "stdout",
     "output_type": "stream",
     "text": [
      "14\n",
      "['data04.json', 'data09.json']\n"
     ]
    }
   ],
   "source": [
    "# load all files in the folder\n",
    "file = '.../phone_number_classified/crawl_data/data'\n",
    "dirs = os.listdir(file)\n",
    "print(len(dirs))\n",
    "print(dirs[:2])"
   ]
  },
  {
   "cell_type": "code",
   "execution_count": 3,
   "metadata": {},
   "outputs": [],
   "source": [
    "ls_data = []\n",
    "for file in dirs:\n",
    "    #print(file)\n",
    "    keys_file = open(\".../phone_number_classified/crawl_data/data/{}\".format(file))\n",
    "    keys = keys_file.read().encode('utf-8')\n",
    "    keys_json = json.loads(keys)\n",
    "    df = pd.DataFrame.from_dict(keys_json)\n",
    "    ls_data.append(df)"
   ]
  },
  {
   "cell_type": "code",
   "execution_count": 4,
   "metadata": {},
   "outputs": [
    {
     "data": {
      "text/html": [
       "<div>\n",
       "<style scoped>\n",
       "    .dataframe tbody tr th:only-of-type {\n",
       "        vertical-align: middle;\n",
       "    }\n",
       "\n",
       "    .dataframe tbody tr th {\n",
       "        vertical-align: top;\n",
       "    }\n",
       "\n",
       "    .dataframe thead th {\n",
       "        text-align: right;\n",
       "    }\n",
       "</style>\n",
       "<table border=\"1\" class=\"dataframe\">\n",
       "  <thead>\n",
       "    <tr style=\"text-align: right;\">\n",
       "      <th></th>\n",
       "      <th>phone_number</th>\n",
       "      <th>price</th>\n",
       "    </tr>\n",
       "  </thead>\n",
       "  <tbody>\n",
       "    <tr>\n",
       "      <th>0</th>\n",
       "      <td>0855.666.666</td>\n",
       "      <td>Giá: 2,349,000,000</td>\n",
       "    </tr>\n",
       "  </tbody>\n",
       "</table>\n",
       "</div>"
      ],
      "text/plain": [
       "   phone_number                price\n",
       "0  0855.666.666  Giá: 2,349,000,000 "
      ]
     },
     "execution_count": 4,
     "metadata": {},
     "output_type": "execute_result"
    }
   ],
   "source": [
    "df_data = pd.concat(ls_data)\n",
    "df_data = df_data.dropna()\n",
    "df_data.phone_number = df_data.phone_number.astype('str')\n",
    "df_data.price = df_data.price.astype('str')\n",
    "df_data.head(1)"
   ]
  },
  {
   "cell_type": "markdown",
   "metadata": {},
   "source": [
    "# preprocessing data"
   ]
  },
  {
   "cell_type": "code",
   "execution_count": 5,
   "metadata": {},
   "outputs": [
    {
     "data": {
      "text/html": [
       "<div>\n",
       "<style scoped>\n",
       "    .dataframe tbody tr th:only-of-type {\n",
       "        vertical-align: middle;\n",
       "    }\n",
       "\n",
       "    .dataframe tbody tr th {\n",
       "        vertical-align: top;\n",
       "    }\n",
       "\n",
       "    .dataframe thead th {\n",
       "        text-align: right;\n",
       "    }\n",
       "</style>\n",
       "<table border=\"1\" class=\"dataframe\">\n",
       "  <thead>\n",
       "    <tr style=\"text-align: right;\">\n",
       "      <th></th>\n",
       "      <th>phone_number</th>\n",
       "      <th>price</th>\n",
       "      <th>mobile_number</th>\n",
       "    </tr>\n",
       "  </thead>\n",
       "  <tbody>\n",
       "    <tr>\n",
       "      <th>0</th>\n",
       "      <td>0855.666.666</td>\n",
       "      <td>2349000000</td>\n",
       "      <td>0855666666</td>\n",
       "    </tr>\n",
       "  </tbody>\n",
       "</table>\n",
       "</div>"
      ],
      "text/plain": [
       "   phone_number       price mobile_number\n",
       "0  0855.666.666  2349000000    0855666666"
      ]
     },
     "execution_count": 5,
     "metadata": {},
     "output_type": "execute_result"
    }
   ],
   "source": [
    "def normlize_number_sequence(num_sequence):\n",
    "    # convert tất cả những ký tự lớn hơn 2 khoảng trắng trởlên thành 1 khoảng trắng\n",
    "    #num_sequence = re.sub(r'\\s+', ' ', num_sequence)\n",
    "    num_sequence = (num_sequence.lower()).strip()\n",
    "    # xóa tất cả ký tự không phải là số\n",
    "    sequence = re.sub(r'\\D','', num_sequence)\n",
    "    return  sequence.strip()\n",
    "df_data['price'] = df_data.price.apply(normlize_number_sequence)\n",
    "df_data['mobile_number'] = df_data.phone_number.apply(normlize_number_sequence)\n",
    "df_data.head(1)"
   ]
  },
  {
   "cell_type": "code",
   "execution_count": 6,
   "metadata": {},
   "outputs": [
    {
     "name": "stderr",
     "output_type": "stream",
     "text": [
      "/home/anhnvh/anaconda3/lib/python3.6/site-packages/ipykernel_launcher.py:1: UserWarning: Pandas doesn't allow columns to be created via a new attribute name - see https://pandas.pydata.org/pandas-docs/stable/indexing.html#attribute-access\n",
      "  \"\"\"Entry point for launching an IPython kernel.\n"
     ]
    }
   ],
   "source": [
    "df_data.price_1 = df_data.price.astype('float')\n",
    "df_data = df_data.drop(['phone_number'], axis= 1)"
   ]
  },
  {
   "cell_type": "code",
   "execution_count": 7,
   "metadata": {
    "code_folding": [
     1,
     22,
     31
    ]
   },
   "outputs": [],
   "source": [
    "#  create a dictionary, convert dau so di dong\n",
    "convert_dau_so = {'162' : '32',\n",
    "    '163' : '33',\n",
    "    '164' : '34',\n",
    "    '165' : '35',\n",
    "    '166' : '36',\n",
    "    '167' : '37',\n",
    "    '168' : '38',\n",
    "    '169' : '39',\n",
    "    '120' : '70',\n",
    "    '121' : '79',\n",
    "    '122' : '77',\n",
    "    '126' : '76',\n",
    "    '128' : '78',\n",
    "    '123' : '83',\n",
    "    '124' : '84',\n",
    "    '125' : '85',\n",
    "    '127' : '81',\n",
    "    '129' :'82',\n",
    "    '199' : '59'}\n",
    "\n",
    "# normalize mobile number\n",
    "def norm_mobile(mobile_number):\n",
    "    '''normalize mobile number (str)'''\n",
    "    if mobile_number[0] == '0':\n",
    "        mobile = mobile_number[1:]\n",
    "    else:\n",
    "        mobile = mobile_number\n",
    "    if mobile[:3] in convert_dau_so.keys():\n",
    "        mobile = convert_dau_so[mobile[:3]] + mobile[3:]\n",
    "    return mobile\n",
    "def count_char(mobile_number):\n",
    "    '''count the character amount, before normalize mobile number'''\n",
    "    return len(mobile_number)\n",
    "df_data['mobile_number'] = df_data.mobile_number.astype('str').apply(norm_mobile)\n",
    "df_data['length_of_mobile_number'] = df_data.mobile_number.astype('str').apply(count_char)"
   ]
  },
  {
   "cell_type": "code",
   "execution_count": 8,
   "metadata": {},
   "outputs": [
    {
     "data": {
      "text/html": [
       "<div>\n",
       "<style scoped>\n",
       "    .dataframe tbody tr th:only-of-type {\n",
       "        vertical-align: middle;\n",
       "    }\n",
       "\n",
       "    .dataframe tbody tr th {\n",
       "        vertical-align: top;\n",
       "    }\n",
       "\n",
       "    .dataframe thead th {\n",
       "        text-align: right;\n",
       "    }\n",
       "</style>\n",
       "<table border=\"1\" class=\"dataframe\">\n",
       "  <thead>\n",
       "    <tr style=\"text-align: right;\">\n",
       "      <th></th>\n",
       "      <th>price</th>\n",
       "      <th>mobile_number</th>\n",
       "      <th>length_of_mobile_number</th>\n",
       "    </tr>\n",
       "  </thead>\n",
       "  <tbody>\n",
       "    <tr>\n",
       "      <th>0</th>\n",
       "      <td>2349000000</td>\n",
       "      <td>855666666</td>\n",
       "      <td>9</td>\n",
       "    </tr>\n",
       "    <tr>\n",
       "      <th>1</th>\n",
       "      <td>302400000</td>\n",
       "      <td>359000000</td>\n",
       "      <td>9</td>\n",
       "    </tr>\n",
       "  </tbody>\n",
       "</table>\n",
       "</div>"
      ],
      "text/plain": [
       "        price mobile_number  length_of_mobile_number\n",
       "0  2349000000     855666666                        9\n",
       "1   302400000     359000000                        9"
      ]
     },
     "execution_count": 8,
     "metadata": {},
     "output_type": "execute_result"
    }
   ],
   "source": [
    "df_data = df_data[df_data.length_of_mobile_number == 9]\n",
    "df_data = df_data.drop_duplicates(subset= ['mobile_number'])\n",
    "df_data = df_data.dropna()\n",
    "df_data.columns = ['price', 'mobile_number', 'length_of_mobile_number']\n",
    "df_data.head(2)"
   ]
  },
  {
   "cell_type": "code",
   "execution_count": 9,
   "metadata": {
    "collapsed": true
   },
   "outputs": [],
   "source": [
    "df_data.price = df_data.price.astype('float')"
   ]
  },
  {
   "cell_type": "markdown",
   "metadata": {},
   "source": [
    "1. new target\n",
    "+ < 200.000 : 0\n",
    "+ 200.000 - 499.000: 1\n",
    "+ 500.000 - 999.000: 2\n",
    "+ 1.000.000- 2.999.000: 3\n",
    "+ 3.000.000-9.999.000: 4\n",
    "+ 10.000.000 - 49.999.000: 5\n",
    "+ \\> 50.000.000: 6"
   ]
  },
  {
   "cell_type": "code",
   "execution_count": 10,
   "metadata": {},
   "outputs": [],
   "source": [
    "# convert target 2\n",
    "def convert_label(price):\n",
    "    if price < 200000:\n",
    "        return 0\n",
    "    elif (price >= 200000) & (price < 500000):\n",
    "        return 1\n",
    "    elif (price >= 500000) & (price < 1500000):\n",
    "        return 2\n",
    "    elif (price >= 1500000) & (price < 10000000):\n",
    "        return 3\n",
    "    elif (price >= 10000000) & (price < 50000000):\n",
    "        return 4\n",
    "    elif (price >= 50000000):\n",
    "        return 5\n",
    "    else:\n",
    "        pass\n",
    "df_data['target'] = df_data.price.apply(convert_label)"
   ]
  },
  {
   "cell_type": "code",
   "execution_count": 11,
   "metadata": {
    "collapsed": true
   },
   "outputs": [],
   "source": [
    "df_data.target = df_data.target.astype('int')"
   ]
  },
  {
   "cell_type": "code",
   "execution_count": 12,
   "metadata": {},
   "outputs": [
    {
     "data": {
      "text/plain": [
       "2    269914\n",
       "3    200012\n",
       "0     49938\n",
       "4     36198\n",
       "1     25270\n",
       "5     13704\n",
       "Name: target, dtype: int64"
      ]
     },
     "execution_count": 12,
     "metadata": {},
     "output_type": "execute_result"
    }
   ],
   "source": [
    "df_data.target.value_counts()"
   ]
  },
  {
   "cell_type": "code",
   "execution_count": 13,
   "metadata": {
    "collapsed": true,
    "scrolled": true
   },
   "outputs": [],
   "source": [
    "df_data = df_data.reset_index()\n",
    "df_data = df_data.drop(['index', 'price'], axis= 1)"
   ]
  },
  {
   "cell_type": "code",
   "execution_count": 14,
   "metadata": {},
   "outputs": [
    {
     "data": {
      "text/html": [
       "<div>\n",
       "<style scoped>\n",
       "    .dataframe tbody tr th:only-of-type {\n",
       "        vertical-align: middle;\n",
       "    }\n",
       "\n",
       "    .dataframe tbody tr th {\n",
       "        vertical-align: top;\n",
       "    }\n",
       "\n",
       "    .dataframe thead th {\n",
       "        text-align: right;\n",
       "    }\n",
       "</style>\n",
       "<table border=\"1\" class=\"dataframe\">\n",
       "  <thead>\n",
       "    <tr style=\"text-align: right;\">\n",
       "      <th></th>\n",
       "      <th>mobile_number</th>\n",
       "      <th>length_of_mobile_number</th>\n",
       "      <th>target</th>\n",
       "    </tr>\n",
       "  </thead>\n",
       "  <tbody>\n",
       "    <tr>\n",
       "      <th>0</th>\n",
       "      <td>855666666</td>\n",
       "      <td>9</td>\n",
       "      <td>5</td>\n",
       "    </tr>\n",
       "  </tbody>\n",
       "</table>\n",
       "</div>"
      ],
      "text/plain": [
       "  mobile_number  length_of_mobile_number  target\n",
       "0     855666666                        9       5"
      ]
     },
     "execution_count": 14,
     "metadata": {},
     "output_type": "execute_result"
    }
   ],
   "source": [
    "df_data.head(1)"
   ]
  },
  {
   "cell_type": "code",
   "execution_count": 15,
   "metadata": {
    "scrolled": true
   },
   "outputs": [
    {
     "data": {
      "text/plain": [
       "Index(['mobile_number', 'length_of_mobile_number', 'target'], dtype='object')"
      ]
     },
     "execution_count": 15,
     "metadata": {},
     "output_type": "execute_result"
    }
   ],
   "source": [
    "df_data.columns"
   ]
  },
  {
   "cell_type": "markdown",
   "metadata": {},
   "source": [
    "# split train test"
   ]
  },
  {
   "cell_type": "code",
   "execution_count": 16,
   "metadata": {
    "collapsed": true
   },
   "outputs": [],
   "source": [
    "from sklearn.model_selection import train_test_split"
   ]
  },
  {
   "cell_type": "code",
   "execution_count": 17,
   "metadata": {
    "collapsed": true
   },
   "outputs": [],
   "source": [
    "idxs = df_data.index.values\n",
    "targets = df_data.target.values\n",
    "id_train, id_test, target_train, target_test = train_test_split(idxs, targets, test_size = 0.2)"
   ]
  },
  {
   "cell_type": "code",
   "execution_count": 18,
   "metadata": {
    "collapsed": true
   },
   "outputs": [],
   "source": [
    "df_train = df_data[df_data.index.isin(id_train)]\n",
    "df_test = df_data[~df_data.index.isin(id_train)]"
   ]
  },
  {
   "cell_type": "code",
   "execution_count": 21,
   "metadata": {},
   "outputs": [
    {
     "name": "stdout",
     "output_type": "stream",
     "text": [
      "(476028, 3)\n",
      "(119008, 3)\n"
     ]
    }
   ],
   "source": [
    "df_train = df_train.dropna()\n",
    "df_train = df_train.reset_index()\n",
    "df_train = df_train.drop(['index', 'length_of_mobile_number'], axis= 1)\n",
    "df_train = df_train.reset_index()\n",
    "df_train.columns = ['id_train', 'mobile_number', 'target']\n",
    "print(df_train.shape)\n",
    "df_test = df_test.dropna()\n",
    "df_test = df_test.reset_index()\n",
    "df_test = df_test.drop(['index', 'length_of_mobile_number'], axis= 1)\n",
    "df_test = df_test.reset_index()\n",
    "df_test.columns = ['id_test', 'mobile_number', 'target']\n",
    "print(df_test.shape)"
   ]
  },
  {
   "cell_type": "code",
   "execution_count": null,
   "metadata": {
    "collapsed": true
   },
   "outputs": [],
   "source": []
  },
  {
   "cell_type": "code",
   "execution_count": 25,
   "metadata": {
    "collapsed": true
   },
   "outputs": [],
   "source": [
    "writer = pd.ExcelWriter('train_data.xlsx', engine='xlsxwriter')\n",
    "df_train.to_excel(writer, 'Sheet1', encoding= 'utf-8', index= False)\n",
    "writer.save()"
   ]
  },
  {
   "cell_type": "code",
   "execution_count": 26,
   "metadata": {
    "collapsed": true
   },
   "outputs": [],
   "source": [
    "writer = pd.ExcelWriter('test_data.xlsx', engine='xlsxwriter')\n",
    "df_test.to_excel(writer, 'Sheet1', encoding= 'utf-8', index= False)\n",
    "writer.save()"
   ]
  },
  {
   "cell_type": "code",
   "execution_count": null,
   "metadata": {
    "collapsed": true
   },
   "outputs": [],
   "source": [
    "# df_train = pd.ExcelFile('train_data.xlsx', encoding= 'utf-8').parse('Sheet1')"
   ]
  },
  {
   "cell_type": "code",
   "execution_count": null,
   "metadata": {
    "collapsed": true,
    "scrolled": true
   },
   "outputs": [],
   "source": [
    "# df_train"
   ]
  },
  {
   "cell_type": "code",
   "execution_count": null,
   "metadata": {
    "collapsed": true
   },
   "outputs": [],
   "source": []
  }
 ],
 "metadata": {
  "kernelspec": {
   "display_name": "Python 3",
   "language": "python",
   "name": "python3"
  },
  "language_info": {
   "codemirror_mode": {
    "name": "ipython",
    "version": 3
   },
   "file_extension": ".py",
   "mimetype": "text/x-python",
   "name": "python",
   "nbconvert_exporter": "python",
   "pygments_lexer": "ipython3",
   "version": "3.6.8"
  }
 },
 "nbformat": 4,
 "nbformat_minor": 2
}
